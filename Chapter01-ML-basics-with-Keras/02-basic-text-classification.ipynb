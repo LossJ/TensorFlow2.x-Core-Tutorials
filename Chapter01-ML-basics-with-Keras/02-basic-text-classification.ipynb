{
 "cells": [
  {
   "cell_type": "markdown",
   "metadata": {},
   "source": [
    "## 基本文本分类： IMDB 电影评论文本分类"
   ]
  },
  {
   "cell_type": "code",
   "execution_count": 1,
   "metadata": {},
   "outputs": [
    {
     "name": "stdout",
     "output_type": "stream",
     "text": [
      "python version:  sys.version_info(major=3, minor=7, micro=2, releaselevel='final', serial=0)\n",
      "numpy version:  1.16.0\n",
      "tensorflow version:  2.3.0\n",
      "tensorflow.keras version:  2.4.0\n"
     ]
    }
   ],
   "source": [
    "import sys\n",
    "import os\n",
    "\n",
    "import tensorflow as tf \n",
    "from tensorflow import keras\n",
    "import numpy as np\n",
    "\n",
    "print(\"python version: \", sys.version_info)\n",
    "for module in np, tf, keras:\n",
    "    print(module.__name__, \"version: \", module.__version__)\n",
    "    \n",
    "seed = 10383"
   ]
  },
  {
   "cell_type": "markdown",
   "metadata": {},
   "source": [
    "### 1. 加载 IMDB 数据集  "
   ]
  },
  {
   "cell_type": "code",
   "execution_count": 2,
   "metadata": {},
   "outputs": [],
   "source": [
    "imdb = keras.datasets.imdb\n",
    "(train_data, train_labels), (test_data, test_labels) = imdb.load_data(num_words=10000)"
   ]
  },
  {
   "cell_type": "markdown",
   "metadata": {},
   "source": [
    "保留了训练数据中最常出现的 10,000 个单词。为了保持数据规模的可管理性，低频词将被丢弃。"
   ]
  },
  {
   "cell_type": "markdown",
   "metadata": {},
   "source": [
    "### 2. 探索数据"
   ]
  },
  {
   "cell_type": "markdown",
   "metadata": {},
   "source": [
    "该数据集是经过预处理的：每个样本都是一个表示影评中词汇的整数数组。  \n",
    "每个标签都是一个值为 0 或 1 的整数值，其中 0 代表消极评论，1 代表积极评论。  "
   ]
  },
  {
   "cell_type": "code",
   "execution_count": 3,
   "metadata": {},
   "outputs": [
    {
     "name": "stdout",
     "output_type": "stream",
     "text": [
      "Training entries: 25000, labels: 25000\n"
     ]
    }
   ],
   "source": [
    "print(\"Training entries: {}, labels: {}\".format(len(train_data), len(train_labels)))"
   ]
  },
  {
   "cell_type": "markdown",
   "metadata": {},
   "source": [
    "评论文本被转换为整数值，其中每个整数代表词典中的一个单词。首条评论是这样的："
   ]
  },
  {
   "cell_type": "code",
   "execution_count": 4,
   "metadata": {},
   "outputs": [
    {
     "name": "stdout",
     "output_type": "stream",
     "text": [
      "[1, 14, 22, 16, 43, 530, 973, 1622, 1385, 65, 458, 4468, 66, 3941, 4, 173, 36, 256, 5, 25, 100, 43, 838, 112, 50, 670, 2, 9, 35, 480, 284, 5, 150, 4, 172, 112, 167, 2, 336, 385, 39, 4, 172, 4536, 1111, 17, 546, 38, 13, 447, 4, 192, 50, 16, 6, 147, 2025, 19, 14, 22, 4, 1920, 4613, 469, 4, 22, 71, 87, 12, 16, 43, 530, 38, 76, 15, 13, 1247, 4, 22, 17, 515, 17, 12, 16, 626, 18, 2, 5, 62, 386, 12, 8, 316, 8, 106, 5, 4, 2223, 5244, 16, 480, 66, 3785, 33, 4, 130, 12, 16, 38, 619, 5, 25, 124, 51, 36, 135, 48, 25, 1415, 33, 6, 22, 12, 215, 28, 77, 52, 5, 14, 407, 16, 82, 2, 8, 4, 107, 117, 5952, 15, 256, 4, 2, 7, 3766, 5, 723, 36, 71, 43, 530, 476, 26, 400, 317, 46, 7, 4, 2, 1029, 13, 104, 88, 4, 381, 15, 297, 98, 32, 2071, 56, 26, 141, 6, 194, 7486, 18, 4, 226, 22, 21, 134, 476, 26, 480, 5, 144, 30, 5535, 18, 51, 36, 28, 224, 92, 25, 104, 4, 226, 65, 16, 38, 1334, 88, 12, 16, 283, 5, 16, 4472, 113, 103, 32, 15, 16, 5345, 19, 178, 32]\n"
     ]
    }
   ],
   "source": [
    "print(train_data[0])"
   ]
  },
  {
   "cell_type": "markdown",
   "metadata": {},
   "source": [
    "电影评论可能具有不同的长度。以下代码显示了第一条和第二条评论的中单词数量。  \n",
    "由于神经网络的输入必须是统一的长度，我们稍后需要解决这个问题。  "
   ]
  },
  {
   "cell_type": "code",
   "execution_count": 5,
   "metadata": {},
   "outputs": [
    {
     "data": {
      "text/plain": [
       "(218, 189)"
      ]
     },
     "execution_count": 5,
     "metadata": {},
     "output_type": "execute_result"
    }
   ],
   "source": [
    "len(train_data[0]), len(train_data[1])"
   ]
  },
  {
   "cell_type": "markdown",
   "metadata": {},
   "source": [
    "#### 2.1 将整数转回单词"
   ]
  },
  {
   "cell_type": "code",
   "execution_count": 6,
   "metadata": {},
   "outputs": [],
   "source": [
    "# 一个映射单词到整数索引的词典\n",
    "word_index = imdb.get_word_index()\n",
    "\n",
    "# 保留第一个索引\n",
    "word_index = {k: v + 3 for k, v in word_index.items()}\n",
    "word_index[\"<PAD>\"] = 0\n",
    "word_index[\"<START>\"] = 1\n",
    "word_index[\"<UNK>\"] = 2 # unknown\n",
    "word_index[\"<END>\"] = 3\n",
    "\n",
    "reverse_word_index = {value: key for key, value in word_index.items()}\n",
    "\n",
    "\n",
    "def decode_review(text):\n",
    "    return \" \".join([reverse_word_index.get(i, \"?\") for i in text])"
   ]
  },
  {
   "cell_type": "markdown",
   "metadata": {},
   "source": [
    "显示首条评论的文本："
   ]
  },
  {
   "cell_type": "code",
   "execution_count": 7,
   "metadata": {},
   "outputs": [
    {
     "data": {
      "text/plain": [
       "\"<START> this film was just brilliant casting location scenery story direction everyone's really suited the part they played and you could just imagine being there robert <UNK> is an amazing actor and now the same being director <UNK> father came from the same scottish island as myself so i loved the fact there was a real connection with this film the witty remarks throughout the film were great it was just brilliant so much that i bought the film as soon as it was released for <UNK> and would recommend it to everyone to watch and the fly fishing was amazing really cried at the end it was so sad and you know what they say if you cry at a film it must have been good and this definitely was also <UNK> to the two little boy's that played the <UNK> of norman and paul they were just brilliant children are often left out of the <UNK> list i think because the stars that play them all grown up are such a big profile for the whole film but these children are amazing and should be praised for what they have done don't you think the whole story was so lovely because it was true and was someone's life after all that was shared with us all\""
      ]
     },
     "execution_count": 7,
     "metadata": {},
     "output_type": "execute_result"
    }
   ],
   "source": [
    "decode_review(train_data[0])"
   ]
  },
  {
   "cell_type": "markdown",
   "metadata": {},
   "source": [
    "### 3. 准备数据"
   ]
  },
  {
   "cell_type": "code",
   "execution_count": 8,
   "metadata": {},
   "outputs": [],
   "source": [
    "train_data = keras.preprocessing.sequence.pad_sequences(\n",
    "    train_data, value=word_index[\"<PAD>\"], padding=\"post\", maxlen=256\n",
    ")\n",
    "test_data = keras.preprocessing.sequence.pad_sequences(\n",
    "    test_data, value=word_index[\"<PAD>\"], padding=\"post\", maxlen=256\n",
    ")"
   ]
  },
  {
   "cell_type": "code",
   "execution_count": 9,
   "metadata": {},
   "outputs": [
    {
     "data": {
      "text/plain": [
       "(256, 256)"
      ]
     },
     "execution_count": 9,
     "metadata": {},
     "output_type": "execute_result"
    }
   ],
   "source": [
    "len(train_data[0]), len(train_data[1])"
   ]
  },
  {
   "cell_type": "code",
   "execution_count": 10,
   "metadata": {},
   "outputs": [
    {
     "name": "stdout",
     "output_type": "stream",
     "text": [
      "[   1   14   22   16   43  530  973 1622 1385   65  458 4468   66 3941\n",
      "    4  173   36  256    5   25  100   43  838  112   50  670    2    9\n",
      "   35  480  284    5  150    4  172  112  167    2  336  385   39    4\n",
      "  172 4536 1111   17  546   38   13  447    4  192   50   16    6  147\n",
      " 2025   19   14   22    4 1920 4613  469    4   22   71   87   12   16\n",
      "   43  530   38   76   15   13 1247    4   22   17  515   17   12   16\n",
      "  626   18    2    5   62  386   12    8  316    8  106    5    4 2223\n",
      " 5244   16  480   66 3785   33    4  130   12   16   38  619    5   25\n",
      "  124   51   36  135   48   25 1415   33    6   22   12  215   28   77\n",
      "   52    5   14  407   16   82    2    8    4  107  117 5952   15  256\n",
      "    4    2    7 3766    5  723   36   71   43  530  476   26  400  317\n",
      "   46    7    4    2 1029   13  104   88    4  381   15  297   98   32\n",
      " 2071   56   26  141    6  194 7486   18    4  226   22   21  134  476\n",
      "   26  480    5  144   30 5535   18   51   36   28  224   92   25  104\n",
      "    4  226   65   16   38 1334   88   12   16  283    5   16 4472  113\n",
      "  103   32   15   16 5345   19  178   32    0    0    0    0    0    0\n",
      "    0    0    0    0    0    0    0    0    0    0    0    0    0    0\n",
      "    0    0    0    0    0    0    0    0    0    0    0    0    0    0\n",
      "    0    0    0    0]\n"
     ]
    }
   ],
   "source": [
    "print(train_data[0])"
   ]
  },
  {
   "cell_type": "markdown",
   "metadata": {},
   "source": [
    "### 4. 构建模型"
   ]
  },
  {
   "cell_type": "code",
   "execution_count": 11,
   "metadata": {},
   "outputs": [
    {
     "name": "stdout",
     "output_type": "stream",
     "text": [
      "Model: \"sequential\"\n",
      "_________________________________________________________________\n",
      "Layer (type)                 Output Shape              Param #   \n",
      "=================================================================\n",
      "embedding (Embedding)        (None, None, 16)          160000    \n",
      "_________________________________________________________________\n",
      "global_average_pooling1d (Gl (None, 16)                0         \n",
      "_________________________________________________________________\n",
      "dense (Dense)                (None, 16)                272       \n",
      "_________________________________________________________________\n",
      "dense_1 (Dense)              (None, 1)                 17        \n",
      "=================================================================\n",
      "Total params: 160,289\n",
      "Trainable params: 160,289\n",
      "Non-trainable params: 0\n",
      "_________________________________________________________________\n"
     ]
    }
   ],
   "source": [
    "# 输入形状是用于电影评论的词汇数目（10,000 词）\n",
    "vocab_size = 10000\n",
    "\n",
    "model = keras.Sequential()\n",
    "model.add(keras.layers.Embedding(vocab_size, 16))\n",
    "model.add(keras.layers.GlobalAveragePooling1D())\n",
    "model.add(keras.layers.Dense(16, activation=\"relu\"))\n",
    "model.add(keras.layers.Dense(1, activation=\"sigmoid\"))\n",
    "\n",
    "model.summary()"
   ]
  },
  {
   "cell_type": "markdown",
   "metadata": {},
   "source": [
    "1. 第一层是嵌入（Embedding）层。该层采用整数编码的词汇表，并查找每个词索引的嵌入向量（embedding vector）。这些向量是通过模型训练学习到的。向量向输出数组增加了一个维度。得到的维度为：(batch, sequence, embedding)。  \n",
    "2. 接下来，GlobalAveragePooling1D 将通过对序列维度求平均值来为每个样本返回一个定长输出向量。这允许模型以尽可能最简单的方式处理变长输入。  \n",
    "3. 该定长输出向量通过一个有 16 个隐层单元的全连接（Dense）层传输。  \n",
    "4. 最后一层与单个输出结点密集连接。使用 Sigmoid 激活函数，其函数值为介于 0 与 1 之间的浮点数，表示概率或置信度。  "
   ]
  },
  {
   "cell_type": "markdown",
   "metadata": {},
   "source": [
    "#### 4.1 隐层单元"
   ]
  },
  {
   "cell_type": "markdown",
   "metadata": {},
   "source": [
    "上述模型在输入输出之间有两个中间层或“隐藏层”。输出（单元，结点或神经元）的数量即为层表示空间的维度。  \n",
    "  \n",
    "如果模型具有更多的隐层单元（更高维度的表示空间）和/或更多层，则可以学习到更复杂的表示。但是，这会使网络的计算成本更高，并且可能导致学习到不需要的模式——一些能够在训练数据上而不是测试数据上改善性能的模式。这被称为过拟合（overfitting），我们稍后会对此进行探究。"
   ]
  },
  {
   "cell_type": "markdown",
   "metadata": {},
   "source": [
    "#### 4.2 损失函数和优化器"
   ]
  },
  {
   "cell_type": "code",
   "execution_count": 12,
   "metadata": {},
   "outputs": [],
   "source": [
    "model.compile(optimizer=\"adam\", loss=\"binary_crossentropy\", metrics=[\"accuracy\"])"
   ]
  },
  {
   "cell_type": "markdown",
   "metadata": {},
   "source": [
    "### 5. 创建一个验证集"
   ]
  },
  {
   "cell_type": "markdown",
   "metadata": {},
   "source": [
    "在训练时，我们想要检查模型在未见过的数据上的准确率（accuracy）。通过从原始训练数据中分离 10,000 个样本来创建一个验证集。（为什么现在不使用测试集？我们的目标是只使用训练数据来开发和调整模型，然后只使用一次测试数据来评估准确率（accuracy））。"
   ]
  },
  {
   "cell_type": "code",
   "execution_count": 13,
   "metadata": {},
   "outputs": [],
   "source": [
    "x_val = train_data[:10000]\n",
    "partial_x_train = train_data[10000:]\n",
    "\n",
    "y_val = train_labels[:10000]\n",
    "partial_y_train = train_labels[10000:]"
   ]
  },
  {
   "cell_type": "markdown",
   "metadata": {},
   "source": [
    "### 6. 训练模型"
   ]
  },
  {
   "cell_type": "code",
   "execution_count": 14,
   "metadata": {},
   "outputs": [
    {
     "name": "stdout",
     "output_type": "stream",
     "text": [
      "Epoch 1/40\n",
      "118/118 [==============================] - 1s 5ms/step - loss: 0.6824 - accuracy: 0.6391 - val_loss: 0.6590 - val_accuracy: 0.7556\n",
      "Epoch 2/40\n",
      "118/118 [==============================] - 0s 4ms/step - loss: 0.5984 - accuracy: 0.7855 - val_loss: 0.5372 - val_accuracy: 0.8135\n",
      "Epoch 3/40\n",
      "118/118 [==============================] - 0s 4ms/step - loss: 0.4585 - accuracy: 0.8515 - val_loss: 0.4188 - val_accuracy: 0.8510\n",
      "Epoch 4/40\n",
      "118/118 [==============================] - 1s 4ms/step - loss: 0.3524 - accuracy: 0.8834 - val_loss: 0.3550 - val_accuracy: 0.8637\n",
      "Epoch 5/40\n",
      "118/118 [==============================] - 0s 3ms/step - loss: 0.2899 - accuracy: 0.9001 - val_loss: 0.3167 - val_accuracy: 0.8781\n",
      "Epoch 6/40\n",
      "118/118 [==============================] - 0s 4ms/step - loss: 0.2491 - accuracy: 0.9119 - val_loss: 0.2980 - val_accuracy: 0.8824\n",
      "Epoch 7/40\n",
      "118/118 [==============================] - 0s 3ms/step - loss: 0.2186 - accuracy: 0.9239 - val_loss: 0.2888 - val_accuracy: 0.8854\n",
      "Epoch 8/40\n",
      "118/118 [==============================] - 0s 4ms/step - loss: 0.1943 - accuracy: 0.9327 - val_loss: 0.2830 - val_accuracy: 0.8858\n",
      "Epoch 9/40\n",
      "118/118 [==============================] - 0s 3ms/step - loss: 0.1742 - accuracy: 0.9429 - val_loss: 0.2809 - val_accuracy: 0.8884\n",
      "Epoch 10/40\n",
      "118/118 [==============================] - 0s 3ms/step - loss: 0.1580 - accuracy: 0.9499 - val_loss: 0.2824 - val_accuracy: 0.8892\n",
      "Epoch 11/40\n",
      "118/118 [==============================] - 0s 4ms/step - loss: 0.1426 - accuracy: 0.9551 - val_loss: 0.2874 - val_accuracy: 0.8874\n",
      "Epoch 12/40\n",
      "118/118 [==============================] - 0s 4ms/step - loss: 0.1297 - accuracy: 0.9611 - val_loss: 0.2958 - val_accuracy: 0.8846\n",
      "Epoch 13/40\n",
      "118/118 [==============================] - 0s 3ms/step - loss: 0.1176 - accuracy: 0.9664 - val_loss: 0.2973 - val_accuracy: 0.8853\n",
      "Epoch 14/40\n",
      "118/118 [==============================] - 0s 3ms/step - loss: 0.1072 - accuracy: 0.9700 - val_loss: 0.3058 - val_accuracy: 0.8845\n",
      "Epoch 15/40\n",
      "118/118 [==============================] - 0s 4ms/step - loss: 0.0972 - accuracy: 0.9731 - val_loss: 0.3135 - val_accuracy: 0.8814\n",
      "Epoch 16/40\n",
      "118/118 [==============================] - 0s 3ms/step - loss: 0.0889 - accuracy: 0.9751 - val_loss: 0.3230 - val_accuracy: 0.8806\n",
      "Epoch 17/40\n",
      "118/118 [==============================] - 0s 4ms/step - loss: 0.0795 - accuracy: 0.9803 - val_loss: 0.3375 - val_accuracy: 0.8801\n",
      "Epoch 18/40\n",
      "118/118 [==============================] - 1s 4ms/step - loss: 0.0726 - accuracy: 0.9821 - val_loss: 0.3437 - val_accuracy: 0.8798\n",
      "Epoch 19/40\n",
      "118/118 [==============================] - 0s 4ms/step - loss: 0.0659 - accuracy: 0.9851 - val_loss: 0.3552 - val_accuracy: 0.8778\n",
      "Epoch 20/40\n",
      "118/118 [==============================] - 0s 4ms/step - loss: 0.0604 - accuracy: 0.9866 - val_loss: 0.3662 - val_accuracy: 0.8760\n",
      "Epoch 21/40\n",
      "118/118 [==============================] - 0s 4ms/step - loss: 0.0545 - accuracy: 0.9890 - val_loss: 0.3788 - val_accuracy: 0.8755\n",
      "Epoch 22/40\n",
      "118/118 [==============================] - 0s 4ms/step - loss: 0.0487 - accuracy: 0.9908 - val_loss: 0.3910 - val_accuracy: 0.8736\n",
      "Epoch 23/40\n",
      "118/118 [==============================] - 0s 4ms/step - loss: 0.0443 - accuracy: 0.9920 - val_loss: 0.4050 - val_accuracy: 0.8725\n",
      "Epoch 24/40\n",
      "118/118 [==============================] - 0s 4ms/step - loss: 0.0406 - accuracy: 0.9937 - val_loss: 0.4184 - val_accuracy: 0.8720\n",
      "Epoch 25/40\n",
      "118/118 [==============================] - 0s 4ms/step - loss: 0.0365 - accuracy: 0.9947 - val_loss: 0.4317 - val_accuracy: 0.8693\n",
      "Epoch 26/40\n",
      "118/118 [==============================] - 0s 4ms/step - loss: 0.0337 - accuracy: 0.9953 - val_loss: 0.4478 - val_accuracy: 0.8700\n",
      "Epoch 27/40\n",
      "118/118 [==============================] - 1s 5ms/step - loss: 0.0302 - accuracy: 0.9959 - val_loss: 0.4703 - val_accuracy: 0.8687\n",
      "Epoch 28/40\n",
      "118/118 [==============================] - 0s 4ms/step - loss: 0.0276 - accuracy: 0.9966 - val_loss: 0.4769 - val_accuracy: 0.8691\n",
      "Epoch 29/40\n",
      "118/118 [==============================] - 0s 4ms/step - loss: 0.0251 - accuracy: 0.9967 - val_loss: 0.4902 - val_accuracy: 0.8672\n",
      "Epoch 30/40\n",
      "118/118 [==============================] - 1s 5ms/step - loss: 0.0222 - accuracy: 0.9975 - val_loss: 0.5008 - val_accuracy: 0.8662\n",
      "Epoch 31/40\n",
      "118/118 [==============================] - 1s 5ms/step - loss: 0.0200 - accuracy: 0.9980 - val_loss: 0.5184 - val_accuracy: 0.8665\n",
      "Epoch 32/40\n",
      "118/118 [==============================] - 0s 4ms/step - loss: 0.0182 - accuracy: 0.9983 - val_loss: 0.5342 - val_accuracy: 0.8664\n",
      "Epoch 33/40\n",
      "118/118 [==============================] - 0s 4ms/step - loss: 0.0163 - accuracy: 0.9986 - val_loss: 0.5596 - val_accuracy: 0.8647\n",
      "Epoch 34/40\n",
      "118/118 [==============================] - 0s 4ms/step - loss: 0.0147 - accuracy: 0.9989 - val_loss: 0.5608 - val_accuracy: 0.8650\n",
      "Epoch 35/40\n",
      "118/118 [==============================] - 0s 4ms/step - loss: 0.0136 - accuracy: 0.9986 - val_loss: 0.5772 - val_accuracy: 0.8652\n",
      "Epoch 36/40\n",
      "118/118 [==============================] - 0s 4ms/step - loss: 0.0117 - accuracy: 0.9991 - val_loss: 0.5931 - val_accuracy: 0.8641\n",
      "Epoch 37/40\n",
      "118/118 [==============================] - 0s 4ms/step - loss: 0.0110 - accuracy: 0.9992 - val_loss: 0.6099 - val_accuracy: 0.8638\n",
      "Epoch 38/40\n",
      "118/118 [==============================] - 0s 4ms/step - loss: 0.0097 - accuracy: 0.9995 - val_loss: 0.6218 - val_accuracy: 0.8639\n",
      "Epoch 39/40\n",
      "118/118 [==============================] - 0s 4ms/step - loss: 0.0086 - accuracy: 0.9996 - val_loss: 0.6352 - val_accuracy: 0.8630\n",
      "Epoch 40/40\n",
      "118/118 [==============================] - 0s 4ms/step - loss: 0.0077 - accuracy: 0.9996 - val_loss: 0.6520 - val_accuracy: 0.8629\n"
     ]
    }
   ],
   "source": [
    "history = model.fit(partial_x_train,\n",
    "                    partial_y_train,\n",
    "                    epochs=40,\n",
    "                    batch_size=128,\n",
    "                    validation_data=(x_val, y_val),\n",
    "                    verbose=1)"
   ]
  },
  {
   "cell_type": "markdown",
   "metadata": {},
   "source": [
    "### 7. 评估模型"
   ]
  },
  {
   "cell_type": "code",
   "execution_count": 15,
   "metadata": {},
   "outputs": [
    {
     "name": "stdout",
     "output_type": "stream",
     "text": [
      "782/782 - 0s - loss: 0.6988 - accuracy: 0.8494\n",
      "[0.6988406181335449, 0.8494399785995483]\n"
     ]
    }
   ],
   "source": [
    "results = model.evaluate(test_data,  test_labels, verbose=2)\n",
    "\n",
    "print(results)"
   ]
  },
  {
   "cell_type": "markdown",
   "metadata": {},
   "source": [
    "### 8. 绘制训练过程图"
   ]
  },
  {
   "cell_type": "code",
   "execution_count": 16,
   "metadata": {},
   "outputs": [
    {
     "data": {
      "text/plain": [
       "dict_keys(['loss', 'accuracy', 'val_loss', 'val_accuracy'])"
      ]
     },
     "execution_count": 16,
     "metadata": {},
     "output_type": "execute_result"
    }
   ],
   "source": [
    "history_dict = history.history\n",
    "history_dict.keys()"
   ]
  },
  {
   "cell_type": "code",
   "execution_count": 18,
   "metadata": {},
   "outputs": [
    {
     "data": {
      "image/png": "[encoded data removed]",
      "text/plain": [
       "<Figure size 432x288 with 1 Axes>"
      ]
     },
     "metadata": {
      "needs_background": "light"
     },
     "output_type": "display_data"
    }
   ],
   "source": [
    "import matplotlib.pyplot as plt\n",
    "%matplotlib inline\n",
    "\n",
    "acc = history_dict['accuracy']\n",
    "val_acc = history_dict['val_accuracy']\n",
    "loss = history_dict['loss']\n",
    "val_loss = history_dict['val_loss']\n",
    "\n",
    "epochs = range(1, len(acc) + 1)\n",
    "\n",
    "# \"bo\"代表 \"蓝点\"\n",
    "plt.plot(epochs, loss, 'bo', label='Training loss')\n",
    "# b代表\"蓝色实线\"\n",
    "plt.plot(epochs, val_loss, 'b', label='Validation loss')\n",
    "plt.title('Training and validation loss')\n",
    "plt.xlabel('Epochs')\n",
    "plt.ylabel('Loss')\n",
    "plt.legend()\n",
    "\n",
    "plt.show()"
   ]
  },
  {
   "cell_type": "code",
   "execution_count": 19,
   "metadata": {},
   "outputs": [
    {
     "data": {
      "image/png": "[encoded data removed]",
      "text/plain": [
       "<Figure size 432x288 with 1 Axes>"
      ]
     },
     "metadata": {
      "needs_background": "light"
     },
     "output_type": "display_data"
    }
   ],
   "source": [
    "plt.clf()   # 清除数字\n",
    "\n",
    "plt.plot(epochs, acc, 'bo', label='Training acc')\n",
    "plt.plot(epochs, val_acc, 'b', label='Validation acc')\n",
    "plt.title('Training and validation accuracy')\n",
    "plt.xlabel('Epochs')\n",
    "plt.ylabel('Accuracy')\n",
    "plt.legend()\n",
    "\n",
    "plt.show()"
   ]
  },
  {
   "cell_type": "code",
   "execution_count": null,
   "metadata": {},
   "outputs": [],
   "source": []
  }
 ],
 "metadata": {
  "kernelspec": {
   "display_name": "Python 3",
   "language": "python",
   "name": "python3"
  },
  "language_info": {
   "codemirror_mode": {
    "name": "ipython",
    "version": 3
   },
   "file_extension": ".py",
   "mimetype": "text/x-python",
   "name": "python",
   "nbconvert_exporter": "python",
   "pygments_lexer": "ipython3",
   "version": "3.7.2"
  }
 },
 "nbformat": 4,
 "nbformat_minor": 4
}
