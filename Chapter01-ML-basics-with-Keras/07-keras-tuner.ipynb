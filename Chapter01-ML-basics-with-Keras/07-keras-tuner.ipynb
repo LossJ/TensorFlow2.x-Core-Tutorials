{
 "cells": [
  {
   "cell_type": "markdown",
   "metadata": {},
   "source": [
    "## 用Keras Tuner实现超参数搜索"
   ]
  },
  {
   "cell_type": "markdown",
   "metadata": {},
   "source": [
    "安装keras-tuner:  \n",
    "```shell\n",
    "pip install -q -U keras-tuner\n",
    "```"
   ]
  },
  {
   "cell_type": "code",
   "execution_count": 1,
   "metadata": {},
   "outputs": [
    {
     "name": "stdout",
     "output_type": "stream",
     "text": [
      "python version: sys.version_info(major=3, minor=7, micro=2, releaselevel='final', serial=0)\n",
      "tensorflow version: 2.3.0\n",
      "tensorflow.keras version: 2.4.0\n",
      "kerastuner version: 1.0.1\n"
     ]
    }
   ],
   "source": [
    "import sys\n",
    "import os\n",
    "import IPython\n",
    "\n",
    "import tensorflow as tf\n",
    "from tensorflow import keras\n",
    "import kerastuner as kt\n",
    "\n",
    "print(\"python version:\", sys.version_info)\n",
    "for module in tf, keras, kt:\n",
    "    print(module.__name__, \"version:\", module.__version__)"
   ]
  },
  {
   "cell_type": "markdown",
   "metadata": {},
   "source": [
    "### 1. 加载和准备数据集"
   ]
  },
  {
   "cell_type": "code",
   "execution_count": 2,
   "metadata": {},
   "outputs": [],
   "source": [
    "(img_train, label_train), (img_test, label_test) = keras.datasets.fashion_mnist.load_data()"
   ]
  },
  {
   "cell_type": "code",
   "execution_count": 3,
   "metadata": {},
   "outputs": [],
   "source": [
    "img_train = img_train.astype(\"float32\") / 255.0\n",
    "img_test = img_test.astype(\"float32\") / 255.0"
   ]
  },
  {
   "cell_type": "markdown",
   "metadata": {},
   "source": [
    "### 2. 定义模型"
   ]
  },
  {
   "cell_type": "markdown",
   "metadata": {},
   "source": [
    "当构建用于超调整的模型时，除了模型体系结构之外，您还定义了超参数搜索空间。 您为超调优设置的模型称为超模型。  \n",
    "  \n",
    "您可以通过两种方法定义超模型：  \n",
    "* 通过使用模型构建器功能  \n",
    "* 通过子类化Keras Tuner API的HyperModel类  \n",
    "  \n",
    "您还可以使用两个预定义的HyperModel类-HyperXception和HyperResNet用于计算机视觉应用程序。  \n",
    "  \n",
    "在本教程中，您将使用模型构建器功能来定义图像分类模型。 模型构建器函数返回已编译的模型，并使用您内联定义的超参数对模型进行超调。  "
   ]
  },
  {
   "cell_type": "code",
   "execution_count": 4,
   "metadata": {},
   "outputs": [],
   "source": [
    "def model_builder(hp):\n",
    "    model = keras.Sequential()\n",
    "    model.add(keras.layers.Flatten(input_shape=(28, 28)))\n",
    "    \n",
    "    hp_units = hp.Int(\"units\", min_value=32, max_value=512, step=32)\n",
    "    model.add(keras.layers.Dense(units=hp_units, activation=\"relu\"))\n",
    "    model.add(keras.layers.Dense(10))\n",
    "    \n",
    "    hp_learning_rate=hp.Choice(\"learning_rate\", values=[1e-2, 1e-3, 1e-4])\n",
    "    model.compile(optimizer=keras.optimizers.Adam(learning_rate=hp_learning_rate), \n",
    "                  loss=keras.losses.SparseCategoricalCrossentropy(from_logits=True), \n",
    "                  metrics=[\"accuracy\"])\n",
    "    return model"
   ]
  },
  {
   "cell_type": "markdown",
   "metadata": {},
   "source": [
    "### 3.tuner搜索超参数"
   ]
  },
  {
   "cell_type": "markdown",
   "metadata": {},
   "source": [
    "实例化调谐器以执行超调谐。  Keras调谐器有四个可用的调谐器-RandomSearch，Hyperband，BayesianOptimization和Sklearn。 在本教程中，您将使用Hyperband调谐器。\n",
    "  \n",
    "要实例化Hyperband调谐器，必须指定超模型，要优化的目标以及要训练的最大时期数（max_epochs）。"
   ]
  },
  {
   "cell_type": "code",
   "execution_count": 5,
   "metadata": {},
   "outputs": [],
   "source": [
    "tuner = kt.Hyperband(\n",
    "    model_builder,\n",
    "    objective=\"val_accuracy\",\n",
    "    max_epochs=10,\n",
    "    factor=3,\n",
    "    directory=\"my_dir\",\n",
    "    project_name=\"intro_to_kt\",\n",
    ")"
   ]
  },
  {
   "cell_type": "markdown",
   "metadata": {},
   "source": [
    " Hyperband 调整算法使用自适应资源分配和提前停止来快速收敛到高性能模型上。 这是使用运动冠军风格的支架完成的。   \n",
    "该算法在几个 epoch 内训练了大量模型，并且仅将性能最高的一半模型进行到下一轮。 Hyperband 通过计算 $1 + log_{factor}(max\\_epochs)$ 并将其四舍五入到最接近的整数来确定要在括号中训练的模型的数量。\n",
    "\n",
    " \n",
    "在运行超参数搜索之前，定义一个回调以在每个训练步骤结束时清除训练输出。"
   ]
  },
  {
   "cell_type": "code",
   "execution_count": 6,
   "metadata": {},
   "outputs": [],
   "source": [
    "class ClearTrainingOutput(keras.callbacks.Callback):\n",
    "    def on_train_end(*args, **kwargs):\n",
    "        IPython.display.clear_output(wait=True)"
   ]
  },
  {
   "cell_type": "markdown",
   "metadata": {},
   "source": [
    "运行超参数搜索。 除了上面的回调外，搜索方法的参数与 keras.model.fit 所使用的参数相同。"
   ]
  },
  {
   "cell_type": "code",
   "execution_count": 7,
   "metadata": {},
   "outputs": [
    {
     "data": {
      "text/html": [
       "<span style=\"color:#4527A0\"><h1 style=\"font-size:18px\">Trial complete</h1></span>"
      ],
      "text/plain": [
       "<IPython.core.display.HTML object>"
      ]
     },
     "metadata": {},
     "output_type": "display_data"
    },
    {
     "data": {
      "text/html": [
       "<span style=\"color:#4527A0\"><h1 style=\"font-size:18px\">Trial summary</h1></span>"
      ],
      "text/plain": [
       "<IPython.core.display.HTML object>"
      ]
     },
     "metadata": {},
     "output_type": "display_data"
    },
    {
     "data": {
      "text/html": [
       "<span style=\"color:cyan\"> |-Trial ID: 536bf98e0ec0c54c9247801fcfe6a605</span>"
      ],
      "text/plain": [
       "<IPython.core.display.HTML object>"
      ]
     },
     "metadata": {},
     "output_type": "display_data"
    },
    {
     "data": {
      "text/html": [
       "<span style=\"color:cyan\"> |-Score: 0.8863999843597412</span>"
      ],
      "text/plain": [
       "<IPython.core.display.HTML object>"
      ]
     },
     "metadata": {},
     "output_type": "display_data"
    },
    {
     "data": {
      "text/html": [
       "<span style=\"color:cyan\"> |-Best step: 0</span>"
      ],
      "text/plain": [
       "<IPython.core.display.HTML object>"
      ]
     },
     "metadata": {},
     "output_type": "display_data"
    },
    {
     "data": {
      "text/html": [
       "<span style=\"color:#7E57C2\"><h2 style=\"font-size:16px\">Hyperparameters:</h2></span>"
      ],
      "text/plain": [
       "<IPython.core.display.HTML object>"
      ]
     },
     "metadata": {},
     "output_type": "display_data"
    },
    {
     "data": {
      "text/html": [
       "<span style=\"color:cyan\"> |-learning_rate: 0.0001</span>"
      ],
      "text/plain": [
       "<IPython.core.display.HTML object>"
      ]
     },
     "metadata": {},
     "output_type": "display_data"
    },
    {
     "data": {
      "text/html": [
       "<span style=\"color:blue\"> |-tuner/bracket: 0</span>"
      ],
      "text/plain": [
       "<IPython.core.display.HTML object>"
      ]
     },
     "metadata": {},
     "output_type": "display_data"
    },
    {
     "data": {
      "text/html": [
       "<span style=\"color:cyan\"> |-tuner/epochs: 10</span>"
      ],
      "text/plain": [
       "<IPython.core.display.HTML object>"
      ]
     },
     "metadata": {},
     "output_type": "display_data"
    },
    {
     "data": {
      "text/html": [
       "<span style=\"color:blue\"> |-tuner/initial_epoch: 0</span>"
      ],
      "text/plain": [
       "<IPython.core.display.HTML object>"
      ]
     },
     "metadata": {},
     "output_type": "display_data"
    },
    {
     "data": {
      "text/html": [
       "<span style=\"color:cyan\"> |-tuner/round: 0</span>"
      ],
      "text/plain": [
       "<IPython.core.display.HTML object>"
      ]
     },
     "metadata": {},
     "output_type": "display_data"
    },
    {
     "data": {
      "text/html": [
       "<span style=\"color:blue\"> |-units: 448</span>"
      ],
      "text/plain": [
       "<IPython.core.display.HTML object>"
      ]
     },
     "metadata": {},
     "output_type": "display_data"
    },
    {
     "name": "stdout",
     "output_type": "stream",
     "text": [
      "INFO:tensorflow:Oracle triggered exit\n",
      "\n",
      "The hyperparameter search is complete. The optimal number of units in the first densely-connected\n",
      "layer is 512 and the optimal learning rate for the optimizer\n",
      "is 0.001.\n",
      "\n"
     ]
    }
   ],
   "source": [
    "tuner.search(img_train, label_train, epochs = 10, validation_data = (img_test, label_test), callbacks = [ClearTrainingOutput()])\n",
    "\n",
    "# Get the optimal hyperparameters\n",
    "best_hps = tuner.get_best_hyperparameters(num_trials = 1)[0]\n",
    "\n",
    "print(f\"\"\"\n",
    "The hyperparameter search is complete. The optimal number of units in the first densely-connected\n",
    "layer is {best_hps.get('units')} and the optimal learning rate for the optimizer\n",
    "is {best_hps.get('learning_rate')}.\n",
    "\"\"\")"
   ]
  },
  {
   "cell_type": "markdown",
   "metadata": {},
   "source": [
    "要完成本教程，请使用搜索中的最佳超参数重新训练模型。"
   ]
  },
  {
   "cell_type": "code",
   "execution_count": 8,
   "metadata": {
    "scrolled": true
   },
   "outputs": [
    {
     "name": "stdout",
     "output_type": "stream",
     "text": [
      "Epoch 1/10\n",
      "1875/1875 [==============================] - ETA: 0s - loss: 2.4455 - accuracy: 0.06 - ETA: 4s - loss: 1.3105 - accuracy: 0.58 - ETA: 4s - loss: 1.1105 - accuracy: 0.63 - ETA: 4s - loss: 0.9879 - accuracy: 0.66 - ETA: 4s - loss: 0.9036 - accuracy: 0.69 - ETA: 4s - loss: 0.8595 - accuracy: 0.70 - ETA: 4s - loss: 0.8326 - accuracy: 0.71 - ETA: 4s - loss: 0.8054 - accuracy: 0.72 - ETA: 4s - loss: 0.7769 - accuracy: 0.73 - ETA: 3s - loss: 0.7497 - accuracy: 0.74 - ETA: 3s - loss: 0.7266 - accuracy: 0.74 - ETA: 3s - loss: 0.7108 - accuracy: 0.75 - ETA: 3s - loss: 0.6898 - accuracy: 0.76 - ETA: 3s - loss: 0.6775 - accuracy: 0.76 - ETA: 3s - loss: 0.6660 - accuracy: 0.76 - ETA: 3s - loss: 0.6542 - accuracy: 0.77 - ETA: 3s - loss: 0.6454 - accuracy: 0.77 - ETA: 3s - loss: 0.6378 - accuracy: 0.77 - ETA: 3s - loss: 0.6296 - accuracy: 0.78 - ETA: 3s - loss: 0.6256 - accuracy: 0.78 - ETA: 3s - loss: 0.6156 - accuracy: 0.78 - ETA: 3s - loss: 0.6108 - accuracy: 0.78 - ETA: 3s - loss: 0.6051 - accuracy: 0.78 - ETA: 3s - loss: 0.5987 - accuracy: 0.79 - ETA: 3s - loss: 0.5938 - accuracy: 0.79 - ETA: 3s - loss: 0.5921 - accuracy: 0.79 - ETA: 3s - loss: 0.5871 - accuracy: 0.79 - ETA: 3s - loss: 0.5818 - accuracy: 0.79 - ETA: 3s - loss: 0.5787 - accuracy: 0.79 - ETA: 2s - loss: 0.5747 - accuracy: 0.79 - ETA: 2s - loss: 0.5693 - accuracy: 0.79 - ETA: 2s - loss: 0.5656 - accuracy: 0.80 - ETA: 2s - loss: 0.5635 - accuracy: 0.80 - ETA: 2s - loss: 0.5614 - accuracy: 0.80 - ETA: 2s - loss: 0.5585 - accuracy: 0.80 - ETA: 2s - loss: 0.5564 - accuracy: 0.80 - ETA: 2s - loss: 0.5538 - accuracy: 0.80 - ETA: 2s - loss: 0.5515 - accuracy: 0.80 - ETA: 2s - loss: 0.5487 - accuracy: 0.80 - ETA: 2s - loss: 0.5463 - accuracy: 0.80 - ETA: 2s - loss: 0.5432 - accuracy: 0.80 - ETA: 2s - loss: 0.5417 - accuracy: 0.80 - ETA: 2s - loss: 0.5396 - accuracy: 0.81 - ETA: 2s - loss: 0.5372 - accuracy: 0.81 - ETA: 2s - loss: 0.5351 - accuracy: 0.81 - ETA: 2s - loss: 0.5330 - accuracy: 0.81 - ETA: 2s - loss: 0.5304 - accuracy: 0.81 - ETA: 2s - loss: 0.5288 - accuracy: 0.81 - ETA: 2s - loss: 0.5274 - accuracy: 0.81 - ETA: 2s - loss: 0.5257 - accuracy: 0.81 - ETA: 1s - loss: 0.5247 - accuracy: 0.81 - ETA: 1s - loss: 0.5225 - accuracy: 0.81 - ETA: 1s - loss: 0.5205 - accuracy: 0.81 - ETA: 1s - loss: 0.5190 - accuracy: 0.81 - ETA: 1s - loss: 0.5165 - accuracy: 0.81 - ETA: 1s - loss: 0.5160 - accuracy: 0.81 - ETA: 1s - loss: 0.5132 - accuracy: 0.81 - ETA: 1s - loss: 0.5104 - accuracy: 0.81 - ETA: 1s - loss: 0.5085 - accuracy: 0.82 - ETA: 1s - loss: 0.5059 - accuracy: 0.82 - ETA: 1s - loss: 0.5036 - accuracy: 0.82 - ETA: 1s - loss: 0.5024 - accuracy: 0.82 - ETA: 1s - loss: 0.5010 - accuracy: 0.82 - ETA: 1s - loss: 0.4989 - accuracy: 0.82 - ETA: 1s - loss: 0.4977 - accuracy: 0.82 - ETA: 1s - loss: 0.4968 - accuracy: 0.82 - ETA: 1s - loss: 0.4961 - accuracy: 0.82 - ETA: 0s - loss: 0.4949 - accuracy: 0.82 - ETA: 0s - loss: 0.4930 - accuracy: 0.82 - ETA: 0s - loss: 0.4913 - accuracy: 0.82 - ETA: 0s - loss: 0.4904 - accuracy: 0.82 - ETA: 0s - loss: 0.4885 - accuracy: 0.82 - ETA: 0s - loss: 0.4878 - accuracy: 0.82 - ETA: 0s - loss: 0.4866 - accuracy: 0.82 - ETA: 0s - loss: 0.4861 - accuracy: 0.82 - ETA: 0s - loss: 0.4852 - accuracy: 0.82 - ETA: 0s - loss: 0.4840 - accuracy: 0.82 - ETA: 0s - loss: 0.4829 - accuracy: 0.82 - ETA: 0s - loss: 0.4822 - accuracy: 0.82 - ETA: 0s - loss: 0.4808 - accuracy: 0.82 - ETA: 0s - loss: 0.4802 - accuracy: 0.83 - ETA: 0s - loss: 0.4791 - accuracy: 0.83 - ETA: 0s - loss: 0.4783 - accuracy: 0.83 - ETA: 0s - loss: 0.4772 - accuracy: 0.83 - ETA: 0s - loss: 0.4771 - accuracy: 0.83 - ETA: 0s - loss: 0.4765 - accuracy: 0.83 - 5s 2ms/step - loss: 0.4765 - accuracy: 0.8311 - val_loss: 0.3842 - val_accuracy: 0.8647\n",
      "Epoch 2/10\n",
      "1875/1875 [==============================] - ETA: 0s - loss: 0.4273 - accuracy: 0.84 - ETA: 3s - loss: 0.4047 - accuracy: 0.85 - ETA: 3s - loss: 0.3779 - accuracy: 0.86 - ETA: 3s - loss: 0.3795 - accuracy: 0.86 - ETA: 3s - loss: 0.3709 - accuracy: 0.86 - ETA: 3s - loss: 0.3720 - accuracy: 0.86 - ETA: 3s - loss: 0.3733 - accuracy: 0.86 - ETA: 3s - loss: 0.3749 - accuracy: 0.86 - ETA: 3s - loss: 0.3792 - accuracy: 0.86 - ETA: 3s - loss: 0.3747 - accuracy: 0.86 - ETA: 3s - loss: 0.3754 - accuracy: 0.86 - ETA: 3s - loss: 0.3747 - accuracy: 0.86 - ETA: 3s - loss: 0.3749 - accuracy: 0.86 - ETA: 3s - loss: 0.3769 - accuracy: 0.86 - ETA: 3s - loss: 0.3777 - accuracy: 0.86 - ETA: 3s - loss: 0.3766 - accuracy: 0.86 - ETA: 3s - loss: 0.3807 - accuracy: 0.86 - ETA: 3s - loss: 0.3789 - accuracy: 0.86 - ETA: 3s - loss: 0.3820 - accuracy: 0.86 - ETA: 3s - loss: 0.3820 - accuracy: 0.86 - ETA: 2s - loss: 0.3806 - accuracy: 0.86 - ETA: 2s - loss: 0.3795 - accuracy: 0.86 - ETA: 2s - loss: 0.3789 - accuracy: 0.86 - ETA: 2s - loss: 0.3801 - accuracy: 0.86 - ETA: 2s - loss: 0.3798 - accuracy: 0.86 - ETA: 2s - loss: 0.3777 - accuracy: 0.86 - ETA: 2s - loss: 0.3769 - accuracy: 0.86 - ETA: 2s - loss: 0.3761 - accuracy: 0.86 - ETA: 2s - loss: 0.3745 - accuracy: 0.86 - ETA: 2s - loss: 0.3736 - accuracy: 0.86 - ETA: 2s - loss: 0.3709 - accuracy: 0.86 - ETA: 2s - loss: 0.3708 - accuracy: 0.86 - ETA: 2s - loss: 0.3714 - accuracy: 0.86 - ETA: 2s - loss: 0.3721 - accuracy: 0.86 - ETA: 2s - loss: 0.3714 - accuracy: 0.86 - ETA: 2s - loss: 0.3708 - accuracy: 0.86 - ETA: 2s - loss: 0.3699 - accuracy: 0.86 - ETA: 2s - loss: 0.3701 - accuracy: 0.86 - ETA: 1s - loss: 0.3698 - accuracy: 0.86 - ETA: 1s - loss: 0.3699 - accuracy: 0.86 - ETA: 1s - loss: 0.3701 - accuracy: 0.86 - ETA: 1s - loss: 0.3709 - accuracy: 0.86 - ETA: 1s - loss: 0.3711 - accuracy: 0.86 - ETA: 1s - loss: 0.3703 - accuracy: 0.86 - ETA: 1s - loss: 0.3709 - accuracy: 0.86 - ETA: 1s - loss: 0.3711 - accuracy: 0.86 - ETA: 1s - loss: 0.3708 - accuracy: 0.86 - ETA: 1s - loss: 0.3709 - accuracy: 0.86 - ETA: 1s - loss: 0.3708 - accuracy: 0.86 - ETA: 1s - loss: 0.3707 - accuracy: 0.86 - ETA: 1s - loss: 0.3704 - accuracy: 0.86 - ETA: 1s - loss: 0.3697 - accuracy: 0.86 - ETA: 1s - loss: 0.3699 - accuracy: 0.86 - ETA: 1s - loss: 0.3692 - accuracy: 0.86 - ETA: 1s - loss: 0.3692 - accuracy: 0.86 - ETA: 1s - loss: 0.3694 - accuracy: 0.86 - ETA: 1s - loss: 0.3701 - accuracy: 0.86 - ETA: 1s - loss: 0.3706 - accuracy: 0.86 - ETA: 1s - loss: 0.3710 - accuracy: 0.86 - ETA: 0s - loss: 0.3696 - accuracy: 0.86 - ETA: 0s - loss: 0.3694 - accuracy: 0.86 - ETA: 0s - loss: 0.3689 - accuracy: 0.86 - ETA: 0s - loss: 0.3687 - accuracy: 0.86 - ETA: 0s - loss: 0.3678 - accuracy: 0.86 - ETA: 0s - loss: 0.3678 - accuracy: 0.86 - ETA: 0s - loss: 0.3670 - accuracy: 0.86 - ETA: 0s - loss: 0.3664 - accuracy: 0.86 - ETA: 0s - loss: 0.3662 - accuracy: 0.86 - ETA: 0s - loss: 0.3665 - accuracy: 0.86 - ETA: 0s - loss: 0.3658 - accuracy: 0.86 - ETA: 0s - loss: 0.3655 - accuracy: 0.86 - ETA: 0s - loss: 0.3650 - accuracy: 0.86 - ETA: 0s - loss: 0.3654 - accuracy: 0.86 - ETA: 0s - loss: 0.3646 - accuracy: 0.86 - ETA: 0s - loss: 0.3640 - accuracy: 0.86 - ETA: 0s - loss: 0.3639 - accuracy: 0.86 - ETA: 0s - loss: 0.3641 - accuracy: 0.86 - ETA: 0s - loss: 0.3638 - accuracy: 0.86 - ETA: 0s - loss: 0.3641 - accuracy: 0.86 - 4s 2ms/step - loss: 0.3640 - accuracy: 0.8666 - val_loss: 0.3725 - val_accuracy: 0.8659\n",
      "Epoch 3/10\n",
      "1875/1875 [==============================] - ETA: 0s - loss: 0.2281 - accuracy: 0.87 - ETA: 3s - loss: 0.3747 - accuracy: 0.84 - ETA: 3s - loss: 0.3400 - accuracy: 0.86 - ETA: 3s - loss: 0.3347 - accuracy: 0.86 - ETA: 3s - loss: 0.3375 - accuracy: 0.86 - ETA: 3s - loss: 0.3369 - accuracy: 0.86 - ETA: 3s - loss: 0.3348 - accuracy: 0.87 - ETA: 3s - loss: 0.3349 - accuracy: 0.87 - ETA: 3s - loss: 0.3379 - accuracy: 0.87 - ETA: 3s - loss: 0.3313 - accuracy: 0.87 - ETA: 3s - loss: 0.3347 - accuracy: 0.87 - ETA: 3s - loss: 0.3337 - accuracy: 0.87 - ETA: 3s - loss: 0.3356 - accuracy: 0.87 - ETA: 3s - loss: 0.3337 - accuracy: 0.87 - ETA: 3s - loss: 0.3346 - accuracy: 0.87 - ETA: 3s - loss: 0.3348 - accuracy: 0.87 - ETA: 3s - loss: 0.3317 - accuracy: 0.87 - ETA: 3s - loss: 0.3327 - accuracy: 0.87 - ETA: 3s - loss: 0.3322 - accuracy: 0.87 - ETA: 3s - loss: 0.3313 - accuracy: 0.87 - ETA: 3s - loss: 0.3317 - accuracy: 0.87 - ETA: 3s - loss: 0.3335 - accuracy: 0.87 - ETA: 3s - loss: 0.3330 - accuracy: 0.87 - ETA: 3s - loss: 0.3328 - accuracy: 0.87 - ETA: 3s - loss: 0.3325 - accuracy: 0.87 - ETA: 2s - loss: 0.3321 - accuracy: 0.87 - ETA: 2s - loss: 0.3321 - accuracy: 0.87 - ETA: 2s - loss: 0.3307 - accuracy: 0.87 - ETA: 2s - loss: 0.3309 - accuracy: 0.87 - ETA: 2s - loss: 0.3318 - accuracy: 0.87 - ETA: 2s - loss: 0.3322 - accuracy: 0.87 - ETA: 2s - loss: 0.3341 - accuracy: 0.87 - ETA: 2s - loss: 0.3327 - accuracy: 0.87 - ETA: 2s - loss: 0.3317 - accuracy: 0.87 - ETA: 2s - loss: 0.3316 - accuracy: 0.87 - ETA: 2s - loss: 0.3315 - accuracy: 0.87 - ETA: 2s - loss: 0.3325 - accuracy: 0.87 - ETA: 2s - loss: 0.3324 - accuracy: 0.87 - ETA: 2s - loss: 0.3328 - accuracy: 0.87 - ETA: 2s - loss: 0.3335 - accuracy: 0.87 - ETA: 2s - loss: 0.3336 - accuracy: 0.87 - ETA: 2s - loss: 0.3330 - accuracy: 0.87 - ETA: 2s - loss: 0.3331 - accuracy: 0.87 - ETA: 2s - loss: 0.3336 - accuracy: 0.87 - ETA: 2s - loss: 0.3333 - accuracy: 0.87 - ETA: 2s - loss: 0.3334 - accuracy: 0.87 - ETA: 2s - loss: 0.3329 - accuracy: 0.87 - ETA: 1s - loss: 0.3337 - accuracy: 0.87 - ETA: 1s - loss: 0.3340 - accuracy: 0.87 - ETA: 1s - loss: 0.3336 - accuracy: 0.87 - ETA: 1s - loss: 0.3333 - accuracy: 0.87 - ETA: 1s - loss: 0.3329 - accuracy: 0.87 - ETA: 1s - loss: 0.3321 - accuracy: 0.87 - ETA: 1s - loss: 0.3316 - accuracy: 0.87 - ETA: 1s - loss: 0.3320 - accuracy: 0.87 - ETA: 1s - loss: 0.3318 - accuracy: 0.87 - ETA: 1s - loss: 0.3318 - accuracy: 0.87 - ETA: 1s - loss: 0.3316 - accuracy: 0.87 - ETA: 1s - loss: 0.3309 - accuracy: 0.87 - ETA: 1s - loss: 0.3311 - accuracy: 0.87 - ETA: 1s - loss: 0.3310 - accuracy: 0.87 - ETA: 1s - loss: 0.3310 - accuracy: 0.87 - ETA: 1s - loss: 0.3305 - accuracy: 0.87 - ETA: 1s - loss: 0.3297 - accuracy: 0.87 - ETA: 1s - loss: 0.3293 - accuracy: 0.87 - ETA: 1s - loss: 0.3290 - accuracy: 0.87 - ETA: 1s - loss: 0.3285 - accuracy: 0.87 - ETA: 1s - loss: 0.3281 - accuracy: 0.87 - ETA: 1s - loss: 0.3271 - accuracy: 0.87 - ETA: 0s - loss: 0.3269 - accuracy: 0.87 - ETA: 0s - loss: 0.3268 - accuracy: 0.87 - ETA: 0s - loss: 0.3268 - accuracy: 0.87 - ETA: 0s - loss: 0.3268 - accuracy: 0.87 - ETA: 0s - loss: 0.3273 - accuracy: 0.87 - ETA: 0s - loss: 0.3270 - accuracy: 0.87 - ETA: 0s - loss: 0.3273 - accuracy: 0.87 - ETA: 0s - loss: 0.3270 - accuracy: 0.87 - ETA: 0s - loss: 0.3271 - accuracy: 0.87 - ETA: 0s - loss: 0.3270 - accuracy: 0.87 - ETA: 0s - loss: 0.3264 - accuracy: 0.87 - ETA: 0s - loss: 0.3265 - accuracy: 0.87 - ETA: 0s - loss: 0.3263 - accuracy: 0.87 - ETA: 0s - loss: 0.3269 - accuracy: 0.87 - ETA: 0s - loss: 0.3267 - accuracy: 0.87 - ETA: 0s - loss: 0.3271 - accuracy: 0.87 - ETA: 0s - loss: 0.3275 - accuracy: 0.87 - ETA: 0s - loss: 0.3274 - accuracy: 0.87 - ETA: 0s - loss: 0.3273 - accuracy: 0.87 - ETA: 0s - loss: 0.3270 - accuracy: 0.87 - ETA: 0s - loss: 0.3265 - accuracy: 0.87 - ETA: 0s - loss: 0.3265 - accuracy: 0.87 - 5s 3ms/step - loss: 0.3268 - accuracy: 0.8789 - val_loss: 0.3255 - val_accuracy: 0.8847\n",
      "Epoch 4/10\n",
      "1875/1875 [==============================] - ETA: 0s - loss: 0.2787 - accuracy: 0.90 - ETA: 4s - loss: 0.2584 - accuracy: 0.91 - ETA: 4s - loss: 0.2566 - accuracy: 0.91 - ETA: 4s - loss: 0.2686 - accuracy: 0.90 - ETA: 4s - loss: 0.2726 - accuracy: 0.90 - ETA: 4s - loss: 0.2737 - accuracy: 0.89 - ETA: 4s - loss: 0.2782 - accuracy: 0.89 - ETA: 4s - loss: 0.2828 - accuracy: 0.89 - ETA: 4s - loss: 0.2813 - accuracy: 0.89 - ETA: 4s - loss: 0.2934 - accuracy: 0.89 - ETA: 4s - loss: 0.2934 - accuracy: 0.89 - ETA: 4s - loss: 0.2941 - accuracy: 0.89 - ETA: 4s - loss: 0.2918 - accuracy: 0.89 - ETA: 4s - loss: 0.2898 - accuracy: 0.89 - ETA: 4s - loss: 0.2959 - accuracy: 0.89 - ETA: 4s - loss: 0.2953 - accuracy: 0.89 - ETA: 4s - loss: 0.2959 - accuracy: 0.89 - ETA: 4s - loss: 0.2961 - accuracy: 0.89 - ETA: 4s - loss: 0.2956 - accuracy: 0.89 - ETA: 4s - loss: 0.2982 - accuracy: 0.89 - ETA: 4s - loss: 0.2961 - accuracy: 0.89 - ETA: 4s - loss: 0.2980 - accuracy: 0.88 - ETA: 3s - loss: 0.2979 - accuracy: 0.89 - ETA: 3s - loss: 0.2986 - accuracy: 0.88 - ETA: 3s - loss: 0.3003 - accuracy: 0.89 - ETA: 3s - loss: 0.2996 - accuracy: 0.89 - ETA: 3s - loss: 0.3000 - accuracy: 0.89 - ETA: 3s - loss: 0.2984 - accuracy: 0.89 - ETA: 3s - loss: 0.2997 - accuracy: 0.89 - ETA: 3s - loss: 0.2997 - accuracy: 0.89 - ETA: 3s - loss: 0.3005 - accuracy: 0.88 - ETA: 3s - loss: 0.3004 - accuracy: 0.88 - ETA: 3s - loss: 0.3007 - accuracy: 0.88 - ETA: 3s - loss: 0.3002 - accuracy: 0.88 - ETA: 3s - loss: 0.3010 - accuracy: 0.88 - ETA: 3s - loss: 0.2999 - accuracy: 0.88 - ETA: 3s - loss: 0.2991 - accuracy: 0.88 - ETA: 3s - loss: 0.3005 - accuracy: 0.88 - ETA: 3s - loss: 0.3011 - accuracy: 0.88 - ETA: 2s - loss: 0.3021 - accuracy: 0.88 - ETA: 2s - loss: 0.3047 - accuracy: 0.88 - ETA: 2s - loss: 0.3054 - accuracy: 0.88 - ETA: 2s - loss: 0.3047 - accuracy: 0.88 - ETA: 2s - loss: 0.3049 - accuracy: 0.88 - ETA: 2s - loss: 0.3049 - accuracy: 0.88 - ETA: 2s - loss: 0.3058 - accuracy: 0.88 - ETA: 2s - loss: 0.3060 - accuracy: 0.88 - ETA: 2s - loss: 0.3053 - accuracy: 0.88 - ETA: 2s - loss: 0.3043 - accuracy: 0.88 - ETA: 2s - loss: 0.3041 - accuracy: 0.88 - ETA: 2s - loss: 0.3046 - accuracy: 0.88 - ETA: 2s - loss: 0.3047 - accuracy: 0.88 - ETA: 2s - loss: 0.3040 - accuracy: 0.88 - ETA: 2s - loss: 0.3043 - accuracy: 0.88 - ETA: 2s - loss: 0.3050 - accuracy: 0.88 - ETA: 2s - loss: 0.3057 - accuracy: 0.88 - ETA: 2s - loss: 0.3054 - accuracy: 0.88 - ETA: 2s - loss: 0.3052 - accuracy: 0.88 - ETA: 1s - loss: 0.3045 - accuracy: 0.88 - ETA: 1s - loss: 0.3041 - accuracy: 0.88 - ETA: 1s - loss: 0.3040 - accuracy: 0.88 - ETA: 1s - loss: 0.3042 - accuracy: 0.88 - ETA: 1s - loss: 0.3041 - accuracy: 0.88 - ETA: 1s - loss: 0.3040 - accuracy: 0.88 - ETA: 1s - loss: 0.3042 - accuracy: 0.88 - ETA: 1s - loss: 0.3037 - accuracy: 0.88 - ETA: 1s - loss: 0.3040 - accuracy: 0.88 - ETA: 1s - loss: 0.3042 - accuracy: 0.88 - ETA: 1s - loss: 0.3045 - accuracy: 0.88 - ETA: 1s - loss: 0.3042 - accuracy: 0.88 - ETA: 1s - loss: 0.3040 - accuracy: 0.88 - ETA: 1s - loss: 0.3038 - accuracy: 0.88 - ETA: 1s - loss: 0.3039 - accuracy: 0.88 - ETA: 1s - loss: 0.3039 - accuracy: 0.88 - ETA: 1s - loss: 0.3038 - accuracy: 0.88 - ETA: 1s - loss: 0.3040 - accuracy: 0.88 - ETA: 1s - loss: 0.3036 - accuracy: 0.88 - ETA: 1s - loss: 0.3033 - accuracy: 0.88 - ETA: 0s - loss: 0.3031 - accuracy: 0.88 - ETA: 0s - loss: 0.3031 - accuracy: 0.88 - ETA: 0s - loss: 0.3025 - accuracy: 0.88 - ETA: 0s - loss: 0.3025 - accuracy: 0.88 - ETA: 0s - loss: 0.3021 - accuracy: 0.88 - ETA: 0s - loss: 0.3020 - accuracy: 0.88 - ETA: 0s - loss: 0.3027 - accuracy: 0.88 - ETA: 0s - loss: 0.3027 - accuracy: 0.88 - ETA: 0s - loss: 0.3033 - accuracy: 0.88 - ETA: 0s - loss: 0.3038 - accuracy: 0.88 - ETA: 0s - loss: 0.3045 - accuracy: 0.88 - ETA: 0s - loss: 0.3047 - accuracy: 0.88 - ETA: 0s - loss: 0.3044 - accuracy: 0.88 - ETA: 0s - loss: 0.3039 - accuracy: 0.88 - ETA: 0s - loss: 0.3039 - accuracy: 0.88 - ETA: 0s - loss: 0.3041 - accuracy: 0.88 - ETA: 0s - loss: 0.3041 - accuracy: 0.88 - ETA: 0s - loss: 0.3041 - accuracy: 0.88 - 5s 3ms/step - loss: 0.3039 - accuracy: 0.8878 - val_loss: 0.3035 - val_accuracy: 0.8880\n",
      "Epoch 5/10\n",
      "1875/1875 [==============================] - ETA: 0s - loss: 0.1686 - accuracy: 0.90 - ETA: 3s - loss: 0.2918 - accuracy: 0.90 - ETA: 3s - loss: 0.2950 - accuracy: 0.89 - ETA: 4s - loss: 0.2902 - accuracy: 0.89 - ETA: 4s - loss: 0.2859 - accuracy: 0.89 - ETA: 4s - loss: 0.2912 - accuracy: 0.89 - ETA: 3s - loss: 0.2884 - accuracy: 0.89 - ETA: 3s - loss: 0.2873 - accuracy: 0.89 - ETA: 3s - loss: 0.2832 - accuracy: 0.89 - ETA: 3s - loss: 0.2809 - accuracy: 0.89 - ETA: 3s - loss: 0.2762 - accuracy: 0.89 - ETA: 3s - loss: 0.2791 - accuracy: 0.89 - ETA: 3s - loss: 0.2784 - accuracy: 0.89 - ETA: 3s - loss: 0.2767 - accuracy: 0.89 - ETA: 3s - loss: 0.2759 - accuracy: 0.89 - ETA: 3s - loss: 0.2745 - accuracy: 0.89 - ETA: 3s - loss: 0.2752 - accuracy: 0.89 - ETA: 3s - loss: 0.2780 - accuracy: 0.89 - ETA: 3s - loss: 0.2780 - accuracy: 0.89 - ETA: 3s - loss: 0.2773 - accuracy: 0.89 - ETA: 3s - loss: 0.2798 - accuracy: 0.89 - ETA: 3s - loss: 0.2796 - accuracy: 0.89 - ETA: 3s - loss: 0.2811 - accuracy: 0.89 - ETA: 3s - loss: 0.2807 - accuracy: 0.89 - ETA: 3s - loss: 0.2809 - accuracy: 0.89 - ETA: 3s - loss: 0.2799 - accuracy: 0.89 - ETA: 3s - loss: 0.2805 - accuracy: 0.89 - ETA: 3s - loss: 0.2812 - accuracy: 0.89 - ETA: 3s - loss: 0.2829 - accuracy: 0.89 - ETA: 3s - loss: 0.2836 - accuracy: 0.89 - ETA: 2s - loss: 0.2830 - accuracy: 0.89 - ETA: 2s - loss: 0.2833 - accuracy: 0.89 - ETA: 2s - loss: 0.2827 - accuracy: 0.89 - ETA: 2s - loss: 0.2839 - accuracy: 0.89 - ETA: 2s - loss: 0.2841 - accuracy: 0.89 - ETA: 2s - loss: 0.2857 - accuracy: 0.89 - ETA: 2s - loss: 0.2862 - accuracy: 0.89 - ETA: 2s - loss: 0.2872 - accuracy: 0.89 - ETA: 2s - loss: 0.2870 - accuracy: 0.89 - ETA: 2s - loss: 0.2861 - accuracy: 0.89 - ETA: 2s - loss: 0.2868 - accuracy: 0.89 - ETA: 2s - loss: 0.2881 - accuracy: 0.89 - ETA: 2s - loss: 0.2873 - accuracy: 0.89 - ETA: 2s - loss: 0.2861 - accuracy: 0.89 - ETA: 2s - loss: 0.2855 - accuracy: 0.89 - ETA: 2s - loss: 0.2862 - accuracy: 0.89 - ETA: 2s - loss: 0.2857 - accuracy: 0.89 - ETA: 2s - loss: 0.2854 - accuracy: 0.89 - ETA: 2s - loss: 0.2848 - accuracy: 0.89 - ETA: 2s - loss: 0.2841 - accuracy: 0.89 - ETA: 1s - loss: 0.2842 - accuracy: 0.89 - ETA: 1s - loss: 0.2835 - accuracy: 0.89 - ETA: 1s - loss: 0.2834 - accuracy: 0.89 - ETA: 1s - loss: 0.2833 - accuracy: 0.89 - ETA: 1s - loss: 0.2834 - accuracy: 0.89 - ETA: 1s - loss: 0.2846 - accuracy: 0.89 - ETA: 1s - loss: 0.2852 - accuracy: 0.89 - ETA: 1s - loss: 0.2859 - accuracy: 0.89 - ETA: 1s - loss: 0.2861 - accuracy: 0.89 - ETA: 1s - loss: 0.2862 - accuracy: 0.89 - ETA: 1s - loss: 0.2858 - accuracy: 0.89 - ETA: 1s - loss: 0.2855 - accuracy: 0.89 - ETA: 1s - loss: 0.2853 - accuracy: 0.89 - ETA: 1s - loss: 0.2850 - accuracy: 0.89 - ETA: 1s - loss: 0.2847 - accuracy: 0.89 - ETA: 1s - loss: 0.2847 - accuracy: 0.89 - ETA: 1s - loss: 0.2849 - accuracy: 0.89 - ETA: 1s - loss: 0.2842 - accuracy: 0.89 - ETA: 1s - loss: 0.2842 - accuracy: 0.89 - ETA: 0s - loss: 0.2853 - accuracy: 0.89 - ETA: 0s - loss: 0.2848 - accuracy: 0.89 - ETA: 0s - loss: 0.2849 - accuracy: 0.89 - ETA: 0s - loss: 0.2844 - accuracy: 0.89 - ETA: 0s - loss: 0.2845 - accuracy: 0.89 - ETA: 0s - loss: 0.2843 - accuracy: 0.89 - ETA: 0s - loss: 0.2841 - accuracy: 0.89 - ETA: 0s - loss: 0.2845 - accuracy: 0.89 - ETA: 0s - loss: 0.2843 - accuracy: 0.89 - ETA: 0s - loss: 0.2848 - accuracy: 0.89 - ETA: 0s - loss: 0.2851 - accuracy: 0.89 - ETA: 0s - loss: 0.2851 - accuracy: 0.89 - ETA: 0s - loss: 0.2845 - accuracy: 0.89 - ETA: 0s - loss: 0.2843 - accuracy: 0.89 - ETA: 0s - loss: 0.2844 - accuracy: 0.89 - ETA: 0s - loss: 0.2843 - accuracy: 0.89 - ETA: 0s - loss: 0.2841 - accuracy: 0.89 - ETA: 0s - loss: 0.2842 - accuracy: 0.89 - ETA: 0s - loss: 0.2837 - accuracy: 0.89 - ETA: 0s - loss: 0.2847 - accuracy: 0.89 - ETA: 0s - loss: 0.2843 - accuracy: 0.89 - 5s 3ms/step - loss: 0.2846 - accuracy: 0.8949 - val_loss: 0.3212 - val_accuracy: 0.8812\n",
      "Epoch 6/10\n",
      "1875/1875 [==============================] - ETA: 0s - loss: 0.1481 - accuracy: 0.90 - ETA: 3s - loss: 0.2753 - accuracy: 0.90 - ETA: 3s - loss: 0.2538 - accuracy: 0.90 - ETA: 3s - loss: 0.2592 - accuracy: 0.90 - ETA: 3s - loss: 0.2679 - accuracy: 0.89 - ETA: 3s - loss: 0.2817 - accuracy: 0.89 - ETA: 3s - loss: 0.2800 - accuracy: 0.89 - ETA: 3s - loss: 0.2769 - accuracy: 0.89 - ETA: 3s - loss: 0.2734 - accuracy: 0.89 - ETA: 3s - loss: 0.2701 - accuracy: 0.89 - ETA: 3s - loss: 0.2656 - accuracy: 0.89 - ETA: 3s - loss: 0.2655 - accuracy: 0.89 - ETA: 3s - loss: 0.2621 - accuracy: 0.89 - ETA: 3s - loss: 0.2630 - accuracy: 0.90 - ETA: 3s - loss: 0.2602 - accuracy: 0.90 - ETA: 3s - loss: 0.2615 - accuracy: 0.90 - ETA: 3s - loss: 0.2635 - accuracy: 0.89 - ETA: 3s - loss: 0.2634 - accuracy: 0.89 - ETA: 3s - loss: 0.2639 - accuracy: 0.89 - ETA: 3s - loss: 0.2649 - accuracy: 0.89 - ETA: 3s - loss: 0.2680 - accuracy: 0.89 - ETA: 3s - loss: 0.2675 - accuracy: 0.89 - ETA: 3s - loss: 0.2666 - accuracy: 0.89 - ETA: 3s - loss: 0.2662 - accuracy: 0.89 - ETA: 3s - loss: 0.2669 - accuracy: 0.89 - ETA: 3s - loss: 0.2667 - accuracy: 0.89 - ETA: 3s - loss: 0.2676 - accuracy: 0.89 - ETA: 3s - loss: 0.2685 - accuracy: 0.89 - ETA: 3s - loss: 0.2676 - accuracy: 0.89 - ETA: 2s - loss: 0.2677 - accuracy: 0.89 - ETA: 2s - loss: 0.2668 - accuracy: 0.89 - ETA: 2s - loss: 0.2680 - accuracy: 0.89 - ETA: 2s - loss: 0.2674 - accuracy: 0.89 - ETA: 2s - loss: 0.2680 - accuracy: 0.89 - ETA: 2s - loss: 0.2685 - accuracy: 0.89 - ETA: 2s - loss: 0.2682 - accuracy: 0.89 - ETA: 2s - loss: 0.2681 - accuracy: 0.89 - ETA: 2s - loss: 0.2689 - accuracy: 0.89 - ETA: 2s - loss: 0.2696 - accuracy: 0.89 - ETA: 2s - loss: 0.2700 - accuracy: 0.89 - ETA: 2s - loss: 0.2694 - accuracy: 0.89 - ETA: 2s - loss: 0.2700 - accuracy: 0.89 - ETA: 2s - loss: 0.2698 - accuracy: 0.89 - ETA: 2s - loss: 0.2696 - accuracy: 0.89 - ETA: 2s - loss: 0.2689 - accuracy: 0.89 - ETA: 2s - loss: 0.2684 - accuracy: 0.89 - ETA: 2s - loss: 0.2695 - accuracy: 0.89 - ETA: 2s - loss: 0.2697 - accuracy: 0.89 - ETA: 2s - loss: 0.2703 - accuracy: 0.89 - ETA: 1s - loss: 0.2710 - accuracy: 0.89 - ETA: 1s - loss: 0.2728 - accuracy: 0.89 - ETA: 1s - loss: 0.2725 - accuracy: 0.89 - ETA: 1s - loss: 0.2722 - accuracy: 0.89 - ETA: 1s - loss: 0.2722 - accuracy: 0.89 - ETA: 1s - loss: 0.2722 - accuracy: 0.89 - ETA: 1s - loss: 0.2719 - accuracy: 0.89 - ETA: 1s - loss: 0.2714 - accuracy: 0.89 - ETA: 1s - loss: 0.2713 - accuracy: 0.89 - ETA: 1s - loss: 0.2707 - accuracy: 0.89 - ETA: 1s - loss: 0.2703 - accuracy: 0.89 - ETA: 1s - loss: 0.2707 - accuracy: 0.89 - ETA: 1s - loss: 0.2710 - accuracy: 0.89 - ETA: 1s - loss: 0.2708 - accuracy: 0.89 - ETA: 1s - loss: 0.2709 - accuracy: 0.89 - ETA: 1s - loss: 0.2702 - accuracy: 0.89 - ETA: 1s - loss: 0.2705 - accuracy: 0.89 - ETA: 1s - loss: 0.2706 - accuracy: 0.89 - ETA: 0s - loss: 0.2707 - accuracy: 0.89 - ETA: 0s - loss: 0.2702 - accuracy: 0.89 - ETA: 0s - loss: 0.2699 - accuracy: 0.89 - ETA: 0s - loss: 0.2706 - accuracy: 0.89 - ETA: 0s - loss: 0.2710 - accuracy: 0.89 - ETA: 0s - loss: 0.2715 - accuracy: 0.89 - ETA: 0s - loss: 0.2716 - accuracy: 0.89 - ETA: 0s - loss: 0.2720 - accuracy: 0.89 - ETA: 0s - loss: 0.2715 - accuracy: 0.89 - ETA: 0s - loss: 0.2707 - accuracy: 0.89 - ETA: 0s - loss: 0.2711 - accuracy: 0.89 - ETA: 0s - loss: 0.2714 - accuracy: 0.89 - ETA: 0s - loss: 0.2709 - accuracy: 0.89 - ETA: 0s - loss: 0.2705 - accuracy: 0.89 - ETA: 0s - loss: 0.2707 - accuracy: 0.89 - ETA: 0s - loss: 0.2712 - accuracy: 0.89 - ETA: 0s - loss: 0.2714 - accuracy: 0.89 - ETA: 0s - loss: 0.2713 - accuracy: 0.89 - ETA: 0s - loss: 0.2720 - accuracy: 0.89 - 5s 2ms/step - loss: 0.2720 - accuracy: 0.8985 - val_loss: 0.3026 - val_accuracy: 0.8882\n",
      "Epoch 7/10\n",
      "1875/1875 [==============================] - ETA: 0s - loss: 0.2398 - accuracy: 0.90 - ETA: 3s - loss: 0.2681 - accuracy: 0.89 - ETA: 3s - loss: 0.2792 - accuracy: 0.89 - ETA: 3s - loss: 0.2667 - accuracy: 0.90 - ETA: 3s - loss: 0.2593 - accuracy: 0.90 - ETA: 3s - loss: 0.2554 - accuracy: 0.90 - ETA: 3s - loss: 0.2528 - accuracy: 0.90 - ETA: 3s - loss: 0.2553 - accuracy: 0.90 - ETA: 3s - loss: 0.2560 - accuracy: 0.90 - ETA: 3s - loss: 0.2546 - accuracy: 0.90 - ETA: 3s - loss: 0.2550 - accuracy: 0.90 - ETA: 3s - loss: 0.2560 - accuracy: 0.90 - ETA: 3s - loss: 0.2611 - accuracy: 0.90 - ETA: 3s - loss: 0.2587 - accuracy: 0.90 - ETA: 3s - loss: 0.2569 - accuracy: 0.90 - ETA: 3s - loss: 0.2577 - accuracy: 0.90 - ETA: 3s - loss: 0.2563 - accuracy: 0.90 - ETA: 3s - loss: 0.2584 - accuracy: 0.90 - ETA: 3s - loss: 0.2583 - accuracy: 0.90 - ETA: 3s - loss: 0.2578 - accuracy: 0.90 - ETA: 3s - loss: 0.2571 - accuracy: 0.90 - ETA: 3s - loss: 0.2550 - accuracy: 0.90 - ETA: 3s - loss: 0.2551 - accuracy: 0.90 - ETA: 3s - loss: 0.2550 - accuracy: 0.90 - ETA: 3s - loss: 0.2570 - accuracy: 0.90 - ETA: 3s - loss: 0.2573 - accuracy: 0.90 - ETA: 3s - loss: 0.2576 - accuracy: 0.90 - ETA: 3s - loss: 0.2569 - accuracy: 0.90 - ETA: 2s - loss: 0.2585 - accuracy: 0.90 - ETA: 2s - loss: 0.2576 - accuracy: 0.90 - ETA: 2s - loss: 0.2570 - accuracy: 0.90 - ETA: 2s - loss: 0.2556 - accuracy: 0.90 - ETA: 2s - loss: 0.2565 - accuracy: 0.90 - ETA: 2s - loss: 0.2573 - accuracy: 0.90 - ETA: 2s - loss: 0.2578 - accuracy: 0.90 - ETA: 2s - loss: 0.2561 - accuracy: 0.90 - ETA: 2s - loss: 0.2569 - accuracy: 0.90 - ETA: 2s - loss: 0.2562 - accuracy: 0.90 - ETA: 2s - loss: 0.2569 - accuracy: 0.90 - ETA: 2s - loss: 0.2563 - accuracy: 0.90 - ETA: 2s - loss: 0.2548 - accuracy: 0.90 - ETA: 2s - loss: 0.2550 - accuracy: 0.90 - ETA: 2s - loss: 0.2550 - accuracy: 0.90 - ETA: 2s - loss: 0.2549 - accuracy: 0.90 - ETA: 2s - loss: 0.2558 - accuracy: 0.90 - ETA: 2s - loss: 0.2553 - accuracy: 0.90 - ETA: 2s - loss: 0.2546 - accuracy: 0.90 - ETA: 2s - loss: 0.2556 - accuracy: 0.90 - ETA: 2s - loss: 0.2558 - accuracy: 0.90 - ETA: 2s - loss: 0.2559 - accuracy: 0.90 - ETA: 1s - loss: 0.2560 - accuracy: 0.90 - ETA: 1s - loss: 0.2566 - accuracy: 0.90 - ETA: 1s - loss: 0.2564 - accuracy: 0.90 - ETA: 1s - loss: 0.2566 - accuracy: 0.90 - ETA: 1s - loss: 0.2563 - accuracy: 0.90 - ETA: 1s - loss: 0.2568 - accuracy: 0.90 - ETA: 1s - loss: 0.2563 - accuracy: 0.90 - ETA: 1s - loss: 0.2565 - accuracy: 0.90 - ETA: 1s - loss: 0.2570 - accuracy: 0.90 - ETA: 1s - loss: 0.2574 - accuracy: 0.90 - ETA: 1s - loss: 0.2575 - accuracy: 0.90 - ETA: 1s - loss: 0.2573 - accuracy: 0.90 - ETA: 1s - loss: 0.2576 - accuracy: 0.90 - ETA: 1s - loss: 0.2574 - accuracy: 0.90 - ETA: 1s - loss: 0.2577 - accuracy: 0.90 - ETA: 1s - loss: 0.2576 - accuracy: 0.90 - ETA: 1s - loss: 0.2576 - accuracy: 0.90 - ETA: 1s - loss: 0.2573 - accuracy: 0.90 - ETA: 1s - loss: 0.2567 - accuracy: 0.90 - ETA: 1s - loss: 0.2563 - accuracy: 0.90 - ETA: 1s - loss: 0.2564 - accuracy: 0.90 - ETA: 0s - loss: 0.2575 - accuracy: 0.90 - ETA: 0s - loss: 0.2575 - accuracy: 0.90 - ETA: 0s - loss: 0.2578 - accuracy: 0.90 - ETA: 0s - loss: 0.2576 - accuracy: 0.90 - ETA: 0s - loss: 0.2573 - accuracy: 0.90 - ETA: 0s - loss: 0.2573 - accuracy: 0.90 - ETA: 0s - loss: 0.2573 - accuracy: 0.90 - ETA: 0s - loss: 0.2575 - accuracy: 0.90 - ETA: 0s - loss: 0.2574 - accuracy: 0.90 - ETA: 0s - loss: 0.2579 - accuracy: 0.90 - ETA: 0s - loss: 0.2574 - accuracy: 0.90 - ETA: 0s - loss: 0.2577 - accuracy: 0.90 - ETA: 0s - loss: 0.2574 - accuracy: 0.90 - ETA: 0s - loss: 0.2573 - accuracy: 0.90 - ETA: 0s - loss: 0.2573 - accuracy: 0.90 - ETA: 0s - loss: 0.2570 - accuracy: 0.90 - ETA: 0s - loss: 0.2573 - accuracy: 0.90 - ETA: 0s - loss: 0.2571 - accuracy: 0.90 - ETA: 0s - loss: 0.2572 - accuracy: 0.90 - ETA: 0s - loss: 0.2571 - accuracy: 0.90 - ETA: 0s - loss: 0.2571 - accuracy: 0.90 - ETA: 0s - loss: 0.2569 - accuracy: 0.90 - ETA: 0s - loss: 0.2565 - accuracy: 0.90 - ETA: 0s - loss: 0.2563 - accuracy: 0.90 - ETA: 0s - loss: 0.2562 - accuracy: 0.90 - ETA: 0s - loss: 0.2560 - accuracy: 0.90 - ETA: 0s - loss: 0.2555 - accuracy: 0.90 - ETA: 0s - loss: 0.2550 - accuracy: 0.90 - 5s 3ms/step - loss: 0.2551 - accuracy: 0.9047 - val_loss: 0.3028 - val_accuracy: 0.8886\n",
      "Epoch 8/10\n",
      "1875/1875 [==============================] - ETA: 0s - loss: 0.3803 - accuracy: 0.87 - ETA: 3s - loss: 0.2630 - accuracy: 0.91 - ETA: 3s - loss: 0.2578 - accuracy: 0.91 - ETA: 4s - loss: 0.2524 - accuracy: 0.91 - ETA: 4s - loss: 0.2560 - accuracy: 0.91 - ETA: 3s - loss: 0.2410 - accuracy: 0.91 - ETA: 3s - loss: 0.2394 - accuracy: 0.91 - ETA: 3s - loss: 0.2372 - accuracy: 0.91 - ETA: 3s - loss: 0.2349 - accuracy: 0.91 - ETA: 4s - loss: 0.2369 - accuracy: 0.91 - ETA: 4s - loss: 0.2364 - accuracy: 0.91 - ETA: 4s - loss: 0.2348 - accuracy: 0.91 - ETA: 4s - loss: 0.2349 - accuracy: 0.91 - ETA: 3s - loss: 0.2337 - accuracy: 0.91 - ETA: 3s - loss: 0.2354 - accuracy: 0.91 - ETA: 3s - loss: 0.2351 - accuracy: 0.91 - ETA: 3s - loss: 0.2369 - accuracy: 0.91 - ETA: 3s - loss: 0.2347 - accuracy: 0.91 - ETA: 3s - loss: 0.2341 - accuracy: 0.91 - ETA: 3s - loss: 0.2344 - accuracy: 0.91 - ETA: 3s - loss: 0.2314 - accuracy: 0.91 - ETA: 3s - loss: 0.2318 - accuracy: 0.91 - ETA: 3s - loss: 0.2317 - accuracy: 0.91 - ETA: 3s - loss: 0.2318 - accuracy: 0.91 - ETA: 3s - loss: 0.2323 - accuracy: 0.91 - ETA: 3s - loss: 0.2328 - accuracy: 0.91 - ETA: 3s - loss: 0.2340 - accuracy: 0.91 - ETA: 3s - loss: 0.2349 - accuracy: 0.91 - ETA: 3s - loss: 0.2346 - accuracy: 0.91 - ETA: 3s - loss: 0.2352 - accuracy: 0.90 - ETA: 3s - loss: 0.2352 - accuracy: 0.91 - ETA: 3s - loss: 0.2352 - accuracy: 0.90 - ETA: 3s - loss: 0.2352 - accuracy: 0.91 - ETA: 3s - loss: 0.2352 - accuracy: 0.91 - ETA: 3s - loss: 0.2352 - accuracy: 0.91 - ETA: 3s - loss: 0.2349 - accuracy: 0.91 - ETA: 3s - loss: 0.2355 - accuracy: 0.91 - ETA: 2s - loss: 0.2364 - accuracy: 0.90 - ETA: 2s - loss: 0.2361 - accuracy: 0.90 - ETA: 2s - loss: 0.2364 - accuracy: 0.90 - ETA: 2s - loss: 0.2372 - accuracy: 0.90 - ETA: 2s - loss: 0.2372 - accuracy: 0.90 - ETA: 2s - loss: 0.2389 - accuracy: 0.90 - ETA: 2s - loss: 0.2396 - accuracy: 0.90 - ETA: 2s - loss: 0.2391 - accuracy: 0.90 - ETA: 2s - loss: 0.2383 - accuracy: 0.90 - ETA: 2s - loss: 0.2379 - accuracy: 0.90 - ETA: 2s - loss: 0.2378 - accuracy: 0.90 - ETA: 2s - loss: 0.2377 - accuracy: 0.90 - ETA: 2s - loss: 0.2377 - accuracy: 0.90 - ETA: 2s - loss: 0.2371 - accuracy: 0.90 - ETA: 2s - loss: 0.2382 - accuracy: 0.90 - ETA: 2s - loss: 0.2382 - accuracy: 0.90 - ETA: 2s - loss: 0.2393 - accuracy: 0.90 - ETA: 2s - loss: 0.2393 - accuracy: 0.90 - ETA: 2s - loss: 0.2403 - accuracy: 0.90 - ETA: 1s - loss: 0.2404 - accuracy: 0.90 - ETA: 1s - loss: 0.2403 - accuracy: 0.90 - ETA: 1s - loss: 0.2406 - accuracy: 0.90 - ETA: 1s - loss: 0.2399 - accuracy: 0.90 - ETA: 1s - loss: 0.2401 - accuracy: 0.90 - ETA: 1s - loss: 0.2402 - accuracy: 0.90 - ETA: 1s - loss: 0.2406 - accuracy: 0.90 - ETA: 1s - loss: 0.2415 - accuracy: 0.90 - ETA: 1s - loss: 0.2414 - accuracy: 0.90 - ETA: 1s - loss: 0.2417 - accuracy: 0.90 - ETA: 1s - loss: 0.2417 - accuracy: 0.90 - ETA: 1s - loss: 0.2417 - accuracy: 0.90 - ETA: 1s - loss: 0.2421 - accuracy: 0.90 - ETA: 1s - loss: 0.2421 - accuracy: 0.90 - ETA: 1s - loss: 0.2423 - accuracy: 0.90 - ETA: 1s - loss: 0.2428 - accuracy: 0.90 - ETA: 1s - loss: 0.2432 - accuracy: 0.90 - ETA: 1s - loss: 0.2430 - accuracy: 0.90 - ETA: 1s - loss: 0.2430 - accuracy: 0.90 - ETA: 1s - loss: 0.2430 - accuracy: 0.90 - ETA: 1s - loss: 0.2431 - accuracy: 0.90 - ETA: 1s - loss: 0.2432 - accuracy: 0.90 - ETA: 1s - loss: 0.2434 - accuracy: 0.90 - ETA: 1s - loss: 0.2431 - accuracy: 0.90 - ETA: 1s - loss: 0.2431 - accuracy: 0.90 - ETA: 1s - loss: 0.2431 - accuracy: 0.90 - ETA: 1s - loss: 0.2429 - accuracy: 0.90 - ETA: 0s - loss: 0.2435 - accuracy: 0.90 - ETA: 0s - loss: 0.2437 - accuracy: 0.90 - ETA: 0s - loss: 0.2438 - accuracy: 0.90 - ETA: 0s - loss: 0.2441 - accuracy: 0.90 - ETA: 0s - loss: 0.2444 - accuracy: 0.90 - ETA: 0s - loss: 0.2449 - accuracy: 0.90 - ETA: 0s - loss: 0.2445 - accuracy: 0.90 - ETA: 0s - loss: 0.2448 - accuracy: 0.90 - ETA: 0s - loss: 0.2447 - accuracy: 0.90 - ETA: 0s - loss: 0.2442 - accuracy: 0.90 - ETA: 0s - loss: 0.2439 - accuracy: 0.90 - ETA: 0s - loss: 0.2438 - accuracy: 0.90 - ETA: 0s - loss: 0.2439 - accuracy: 0.90 - ETA: 0s - loss: 0.2441 - accuracy: 0.90 - ETA: 0s - loss: 0.2444 - accuracy: 0.90 - ETA: 0s - loss: 0.2444 - accuracy: 0.90 - ETA: 0s - loss: 0.2444 - accuracy: 0.90 - ETA: 0s - loss: 0.2446 - accuracy: 0.90 - 6s 3ms/step - loss: 0.2447 - accuracy: 0.9067 - val_loss: 0.3096 - val_accuracy: 0.8924\n",
      "Epoch 9/10\n",
      "1875/1875 [==============================] - ETA: 0s - loss: 0.2538 - accuracy: 0.87 - ETA: 4s - loss: 0.2423 - accuracy: 0.91 - ETA: 4s - loss: 0.2289 - accuracy: 0.91 - ETA: 4s - loss: 0.2272 - accuracy: 0.91 - ETA: 4s - loss: 0.2220 - accuracy: 0.91 - ETA: 4s - loss: 0.2229 - accuracy: 0.91 - ETA: 4s - loss: 0.2249 - accuracy: 0.91 - ETA: 4s - loss: 0.2247 - accuracy: 0.91 - ETA: 4s - loss: 0.2269 - accuracy: 0.91 - ETA: 4s - loss: 0.2276 - accuracy: 0.91 - ETA: 4s - loss: 0.2335 - accuracy: 0.91 - ETA: 4s - loss: 0.2332 - accuracy: 0.91 - ETA: 4s - loss: 0.2339 - accuracy: 0.91 - ETA: 4s - loss: 0.2302 - accuracy: 0.91 - ETA: 4s - loss: 0.2300 - accuracy: 0.91 - ETA: 4s - loss: 0.2283 - accuracy: 0.91 - ETA: 3s - loss: 0.2272 - accuracy: 0.91 - ETA: 3s - loss: 0.2259 - accuracy: 0.91 - ETA: 3s - loss: 0.2247 - accuracy: 0.91 - ETA: 3s - loss: 0.2241 - accuracy: 0.91 - ETA: 3s - loss: 0.2262 - accuracy: 0.91 - ETA: 3s - loss: 0.2254 - accuracy: 0.91 - ETA: 3s - loss: 0.2252 - accuracy: 0.91 - ETA: 3s - loss: 0.2256 - accuracy: 0.91 - ETA: 3s - loss: 0.2264 - accuracy: 0.91 - ETA: 3s - loss: 0.2263 - accuracy: 0.91 - ETA: 3s - loss: 0.2276 - accuracy: 0.91 - ETA: 3s - loss: 0.2278 - accuracy: 0.91 - ETA: 3s - loss: 0.2267 - accuracy: 0.91 - ETA: 3s - loss: 0.2281 - accuracy: 0.91 - ETA: 3s - loss: 0.2283 - accuracy: 0.91 - ETA: 3s - loss: 0.2290 - accuracy: 0.91 - ETA: 2s - loss: 0.2300 - accuracy: 0.91 - ETA: 2s - loss: 0.2294 - accuracy: 0.91 - ETA: 2s - loss: 0.2292 - accuracy: 0.91 - ETA: 2s - loss: 0.2300 - accuracy: 0.91 - ETA: 2s - loss: 0.2296 - accuracy: 0.91 - ETA: 2s - loss: 0.2300 - accuracy: 0.91 - ETA: 2s - loss: 0.2290 - accuracy: 0.91 - ETA: 2s - loss: 0.2294 - accuracy: 0.91 - ETA: 2s - loss: 0.2299 - accuracy: 0.91 - ETA: 2s - loss: 0.2296 - accuracy: 0.91 - ETA: 2s - loss: 0.2298 - accuracy: 0.91 - ETA: 2s - loss: 0.2299 - accuracy: 0.91 - ETA: 2s - loss: 0.2295 - accuracy: 0.91 - ETA: 2s - loss: 0.2298 - accuracy: 0.91 - ETA: 2s - loss: 0.2299 - accuracy: 0.91 - ETA: 2s - loss: 0.2310 - accuracy: 0.91 - ETA: 2s - loss: 0.2309 - accuracy: 0.91 - ETA: 2s - loss: 0.2312 - accuracy: 0.91 - ETA: 2s - loss: 0.2316 - accuracy: 0.91 - ETA: 2s - loss: 0.2312 - accuracy: 0.91 - ETA: 1s - loss: 0.2313 - accuracy: 0.91 - ETA: 1s - loss: 0.2315 - accuracy: 0.91 - ETA: 1s - loss: 0.2315 - accuracy: 0.91 - ETA: 1s - loss: 0.2316 - accuracy: 0.91 - ETA: 1s - loss: 0.2320 - accuracy: 0.91 - ETA: 1s - loss: 0.2324 - accuracy: 0.91 - ETA: 1s - loss: 0.2328 - accuracy: 0.91 - ETA: 1s - loss: 0.2327 - accuracy: 0.91 - ETA: 1s - loss: 0.2328 - accuracy: 0.91 - ETA: 1s - loss: 0.2326 - accuracy: 0.91 - ETA: 1s - loss: 0.2322 - accuracy: 0.91 - ETA: 1s - loss: 0.2321 - accuracy: 0.91 - ETA: 1s - loss: 0.2319 - accuracy: 0.91 - ETA: 1s - loss: 0.2323 - accuracy: 0.91 - ETA: 1s - loss: 0.2315 - accuracy: 0.91 - ETA: 1s - loss: 0.2316 - accuracy: 0.91 - ETA: 1s - loss: 0.2318 - accuracy: 0.91 - ETA: 1s - loss: 0.2320 - accuracy: 0.91 - ETA: 0s - loss: 0.2315 - accuracy: 0.91 - ETA: 0s - loss: 0.2320 - accuracy: 0.91 - ETA: 0s - loss: 0.2323 - accuracy: 0.91 - ETA: 0s - loss: 0.2325 - accuracy: 0.91 - ETA: 0s - loss: 0.2322 - accuracy: 0.91 - ETA: 0s - loss: 0.2320 - accuracy: 0.91 - ETA: 0s - loss: 0.2319 - accuracy: 0.91 - ETA: 0s - loss: 0.2327 - accuracy: 0.91 - ETA: 0s - loss: 0.2326 - accuracy: 0.91 - ETA: 0s - loss: 0.2331 - accuracy: 0.91 - ETA: 0s - loss: 0.2334 - accuracy: 0.91 - ETA: 0s - loss: 0.2335 - accuracy: 0.91 - ETA: 0s - loss: 0.2346 - accuracy: 0.91 - ETA: 0s - loss: 0.2348 - accuracy: 0.91 - ETA: 0s - loss: 0.2349 - accuracy: 0.91 - ETA: 0s - loss: 0.2349 - accuracy: 0.91 - ETA: 0s - loss: 0.2351 - accuracy: 0.91 - ETA: 0s - loss: 0.2353 - accuracy: 0.91 - ETA: 0s - loss: 0.2352 - accuracy: 0.91 - 5s 3ms/step - loss: 0.2354 - accuracy: 0.9115 - val_loss: 0.2883 - val_accuracy: 0.8948\n",
      "Epoch 10/10\n",
      "1875/1875 [==============================] - ETA: 0s - loss: 0.1033 - accuracy: 1.00 - ETA: 4s - loss: 0.1703 - accuracy: 0.94 - ETA: 4s - loss: 0.1877 - accuracy: 0.92 - ETA: 4s - loss: 0.1941 - accuracy: 0.92 - ETA: 4s - loss: 0.2051 - accuracy: 0.92 - ETA: 4s - loss: 0.2069 - accuracy: 0.91 - ETA: 4s - loss: 0.2084 - accuracy: 0.91 - ETA: 4s - loss: 0.2053 - accuracy: 0.92 - ETA: 4s - loss: 0.2054 - accuracy: 0.92 - ETA: 4s - loss: 0.2041 - accuracy: 0.92 - ETA: 3s - loss: 0.2108 - accuracy: 0.92 - ETA: 3s - loss: 0.2122 - accuracy: 0.92 - ETA: 3s - loss: 0.2131 - accuracy: 0.92 - ETA: 3s - loss: 0.2158 - accuracy: 0.92 - ETA: 3s - loss: 0.2169 - accuracy: 0.92 - ETA: 3s - loss: 0.2179 - accuracy: 0.91 - ETA: 3s - loss: 0.2178 - accuracy: 0.91 - ETA: 3s - loss: 0.2186 - accuracy: 0.91 - ETA: 3s - loss: 0.2188 - accuracy: 0.91 - ETA: 3s - loss: 0.2197 - accuracy: 0.91 - ETA: 3s - loss: 0.2201 - accuracy: 0.91 - ETA: 3s - loss: 0.2221 - accuracy: 0.91 - ETA: 3s - loss: 0.2226 - accuracy: 0.91 - ETA: 3s - loss: 0.2223 - accuracy: 0.91 - ETA: 3s - loss: 0.2215 - accuracy: 0.91 - ETA: 3s - loss: 0.2230 - accuracy: 0.91 - ETA: 3s - loss: 0.2233 - accuracy: 0.91 - ETA: 3s - loss: 0.2237 - accuracy: 0.91 - ETA: 3s - loss: 0.2229 - accuracy: 0.91 - ETA: 3s - loss: 0.2217 - accuracy: 0.91 - ETA: 3s - loss: 0.2209 - accuracy: 0.91 - ETA: 3s - loss: 0.2211 - accuracy: 0.91 - ETA: 3s - loss: 0.2203 - accuracy: 0.91 - ETA: 3s - loss: 0.2194 - accuracy: 0.91 - ETA: 2s - loss: 0.2188 - accuracy: 0.91 - ETA: 2s - loss: 0.2191 - accuracy: 0.91 - ETA: 2s - loss: 0.2188 - accuracy: 0.91 - ETA: 2s - loss: 0.2206 - accuracy: 0.91 - ETA: 2s - loss: 0.2202 - accuracy: 0.91 - ETA: 2s - loss: 0.2211 - accuracy: 0.91 - ETA: 2s - loss: 0.2201 - accuracy: 0.91 - ETA: 2s - loss: 0.2201 - accuracy: 0.91 - ETA: 2s - loss: 0.2213 - accuracy: 0.91 - ETA: 2s - loss: 0.2216 - accuracy: 0.91 - ETA: 2s - loss: 0.2221 - accuracy: 0.91 - ETA: 2s - loss: 0.2219 - accuracy: 0.91 - ETA: 2s - loss: 0.2213 - accuracy: 0.91 - ETA: 2s - loss: 0.2214 - accuracy: 0.91 - ETA: 2s - loss: 0.2216 - accuracy: 0.91 - ETA: 2s - loss: 0.2222 - accuracy: 0.91 - ETA: 2s - loss: 0.2225 - accuracy: 0.91 - ETA: 2s - loss: 0.2224 - accuracy: 0.91 - ETA: 2s - loss: 0.2225 - accuracy: 0.91 - ETA: 2s - loss: 0.2238 - accuracy: 0.91 - ETA: 2s - loss: 0.2241 - accuracy: 0.91 - ETA: 1s - loss: 0.2238 - accuracy: 0.91 - ETA: 1s - loss: 0.2248 - accuracy: 0.91 - ETA: 1s - loss: 0.2251 - accuracy: 0.91 - ETA: 1s - loss: 0.2247 - accuracy: 0.91 - ETA: 1s - loss: 0.2242 - accuracy: 0.91 - ETA: 1s - loss: 0.2243 - accuracy: 0.91 - ETA: 1s - loss: 0.2242 - accuracy: 0.91 - ETA: 1s - loss: 0.2240 - accuracy: 0.91 - ETA: 1s - loss: 0.2234 - accuracy: 0.91 - ETA: 1s - loss: 0.2232 - accuracy: 0.91 - ETA: 1s - loss: 0.2229 - accuracy: 0.91 - ETA: 1s - loss: 0.2237 - accuracy: 0.91 - ETA: 1s - loss: 0.2236 - accuracy: 0.91 - ETA: 1s - loss: 0.2241 - accuracy: 0.91 - ETA: 1s - loss: 0.2247 - accuracy: 0.91 - ETA: 1s - loss: 0.2238 - accuracy: 0.91 - ETA: 1s - loss: 0.2239 - accuracy: 0.91 - ETA: 1s - loss: 0.2239 - accuracy: 0.91 - ETA: 1s - loss: 0.2240 - accuracy: 0.91 - ETA: 1s - loss: 0.2242 - accuracy: 0.91 - ETA: 1s - loss: 0.2240 - accuracy: 0.91 - ETA: 0s - loss: 0.2245 - accuracy: 0.91 - ETA: 0s - loss: 0.2247 - accuracy: 0.91 - ETA: 0s - loss: 0.2251 - accuracy: 0.91 - ETA: 0s - loss: 0.2253 - accuracy: 0.91 - ETA: 0s - loss: 0.2248 - accuracy: 0.91 - ETA: 0s - loss: 0.2252 - accuracy: 0.91 - ETA: 0s - loss: 0.2251 - accuracy: 0.91 - ETA: 0s - loss: 0.2248 - accuracy: 0.91 - ETA: 0s - loss: 0.2245 - accuracy: 0.91 - ETA: 0s - loss: 0.2239 - accuracy: 0.91 - ETA: 0s - loss: 0.2244 - accuracy: 0.91 - ETA: 0s - loss: 0.2245 - accuracy: 0.91 - ETA: 0s - loss: 0.2250 - accuracy: 0.91 - ETA: 0s - loss: 0.2248 - accuracy: 0.91 - ETA: 0s - loss: 0.2245 - accuracy: 0.91 - ETA: 0s - loss: 0.2242 - accuracy: 0.91 - ETA: 0s - loss: 0.2244 - accuracy: 0.91 - ETA: 0s - loss: 0.2244 - accuracy: 0.91 - ETA: 0s - loss: 0.2245 - accuracy: 0.91 - 5s 3ms/step - loss: 0.2244 - accuracy: 0.9163 - val_loss: 0.3012 - val_accuracy: 0.8920\n"
     ]
    },
    {
     "data": {
      "text/plain": [
       "<tensorflow.python.keras.callbacks.History at 0x152acada0>"
      ]
     },
     "execution_count": 8,
     "metadata": {},
     "output_type": "execute_result"
    }
   ],
   "source": [
    "model = tuner.hypermodel.build(best_hps)\n",
    "model.fit(img_train, label_train, epochs=10, validation_data=(img_test, label_test))"
   ]
  },
  {
   "cell_type": "markdown",
   "metadata": {},
   "source": [
    "my_dir / intro_to_kt目录包含在超参数搜索期间运行的每个试验（模型配置）的详细日志和checkpoints。   \n",
    "如果重新运行超参数搜索，Keras Tuner将使用这些日志中的现有状态来继续搜索。 要禁用此行为，请在实例化调谐器时传递一个额外的overwrite = True参数。    "
   ]
  }
 ],
 "metadata": {
  "kernelspec": {
   "display_name": "Python 3",
   "language": "python",
   "name": "python3"
  },
  "language_info": {
   "codemirror_mode": {
    "name": "ipython",
    "version": 3
   },
   "file_extension": ".py",
   "mimetype": "text/x-python",
   "name": "python",
   "nbconvert_exporter": "python",
   "pygments_lexer": "ipython3",
   "version": "3.7.2"
  }
 },
 "nbformat": 4,
 "nbformat_minor": 4
}
