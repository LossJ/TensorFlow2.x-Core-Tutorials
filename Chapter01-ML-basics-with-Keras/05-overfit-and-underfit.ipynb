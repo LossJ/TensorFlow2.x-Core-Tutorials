{
 "cells": [
  {
   "cell_type": "markdown",
   "metadata": {},
   "source": [
    "## 过拟合和欠拟合"
   ]
  },
  {
   "cell_type": "code",
   "execution_count": 1,
   "metadata": {},
   "outputs": [
    {
     "name": "stdout",
     "output_type": "stream",
     "text": [
      "python version:  sys.version_info(major=3, minor=7, micro=2, releaselevel='final', serial=0)\n",
      "numpy version:  1.16.0\n",
      "matplotlib version:  3.0.3\n",
      "tensorflow version:  2.3.0\n",
      "tensorflow.keras version:  2.4.0\n",
      "pandas version:  0.24.2\n"
     ]
    }
   ],
   "source": [
    "import sys\n",
    "import os\n",
    "import pathlib\n",
    "import shutil\n",
    "import tempfile\n",
    "from IPython import display\n",
    "\n",
    "import matplotlib as mpl\n",
    "import matplotlib.pyplot as plt\n",
    "import tensorflow as tf \n",
    "from tensorflow import keras\n",
    "import tensorflow_docs as tfdocs\n",
    "import tensorflow_docs.modeling\n",
    "import tensorflow_docs.plots\n",
    "import pandas as pd\n",
    "import numpy as np\n",
    "\n",
    "\n",
    "%matplotlib inline\n",
    "\n",
    "print(\"python version: \", sys.version_info)\n",
    "for module in np, mpl, tf, keras, pd:\n",
    "    print(module.__name__, \"version: \", module.__version__)\n",
    "    \n",
    "seed = 10383"
   ]
  },
  {
   "cell_type": "code",
   "execution_count": 2,
   "metadata": {},
   "outputs": [],
   "source": [
    "logdir = pathlib.Path(tempfile.mkdtemp())/\"tensorboard_logs\"\n",
    "shutil.rmtree(logdir, ignore_errors=True)"
   ]
  },
  {
   "cell_type": "markdown",
   "metadata": {},
   "source": [
    "### 1. Higgs Dataset"
   ]
  },
  {
   "cell_type": "markdown",
   "metadata": {},
   "source": [
    "包含11 000 000条样本，每条样本包含 28 个特征，以及 1 个二值标签"
   ]
  },
  {
   "cell_type": "code",
   "execution_count": 3,
   "metadata": {},
   "outputs": [],
   "source": [
    "gz = tf.keras.utils.get_file('HIGGS.csv.gz', 'http://mlphysics.ics.uci.edu/data/higgs/HIGGS.csv.gz')"
   ]
  },
  {
   "cell_type": "code",
   "execution_count": 4,
   "metadata": {},
   "outputs": [],
   "source": [
    "FEATURES = 28"
   ]
  },
  {
   "cell_type": "markdown",
   "metadata": {},
   "source": [
    "tf.data.experimental.CsvDataset 可以直接从 gzip 文件读取 csv 数据，无需中间的解压缩步骤。"
   ]
  },
  {
   "cell_type": "code",
   "execution_count": 5,
   "metadata": {},
   "outputs": [],
   "source": [
    "ds = tf.data.experimental.CsvDataset(gz, [float(),] * (FEATURES + 1), compression_type=\"GZIP\")"
   ]
  },
  {
   "cell_type": "markdown",
   "metadata": {},
   "source": [
    "该csv阅读器类为每个记录返回一个标量列表。 以下函数将该标量列表重新打包为（feature_vector，label）对。"
   ]
  },
  {
   "cell_type": "code",
   "execution_count": 6,
   "metadata": {},
   "outputs": [],
   "source": [
    "def pack_row(*row):\n",
    "    label = row[0]\n",
    "    features = tf.stack(row[1:], 1)\n",
    "    return features, label"
   ]
  },
  {
   "cell_type": "markdown",
   "metadata": {},
   "source": [
    "当处理大量数据时，TensorFlow效率最高。  \n",
    "  \n",
    "因此，与其单独重新打包每一行，不如创建一个新的数据集，该数据集采用10000个示例的批次，将pack_row函数应用于每个批次，然后将这些批次拆分回各个记录："
   ]
  },
  {
   "cell_type": "code",
   "execution_count": 7,
   "metadata": {},
   "outputs": [],
   "source": [
    "packed_ds = ds.batch(10000).map(pack_row).unbatch()"
   ]
  },
  {
   "cell_type": "code",
   "execution_count": 8,
   "metadata": {},
   "outputs": [
    {
     "name": "stdout",
     "output_type": "stream",
     "text": [
      "tf.Tensor(\n",
      "[ 0.8692932  -0.6350818   0.22569026  0.32747006 -0.6899932   0.75420225\n",
      " -0.24857314 -1.0920639   0.          1.3749921  -0.6536742   0.9303491\n",
      "  1.1074361   1.1389043  -1.5781983  -1.0469854   0.          0.65792954\n",
      " -0.01045457 -0.04576717  3.1019614   1.35376     0.9795631   0.97807616\n",
      "  0.92000484  0.72165745  0.98875093  0.87667835], shape=(28,), dtype=float32)\n"
     ]
    },
    {
     "data": {
      "image/png": "[encoded data removed]",
      "text/plain": [
       "<Figure size 432x288 with 1 Axes>"
      ]
     },
     "metadata": {
      "needs_background": "light"
     },
     "output_type": "display_data"
    }
   ],
   "source": [
    "for features, label in packed_ds.batch(1000).take(1):\n",
    "    print(features[0])\n",
    "    plt.hist(features.numpy().flatten(), bins=101)"
   ]
  },
  {
   "cell_type": "markdown",
   "metadata": {},
   "source": [
    "为了使本教程相对较短，仅使用前1000个样本进行验证，然后使用10000个样本进行培训："
   ]
  },
  {
   "cell_type": "code",
   "execution_count": 9,
   "metadata": {},
   "outputs": [],
   "source": [
    "N_VALIDATION = int(1e3)\n",
    "N_TRAIN = int(1e4)\n",
    "BUFFER_SIZE = int(1e4)\n",
    "BATCH_SIZE = 500\n",
    "STEPS_PER_EPOCH = N_TRAIN // BATCH_SIZE"
   ]
  },
  {
   "cell_type": "markdown",
   "metadata": {},
   "source": [
    "Dataset.skip和Dataset.take方法使此操作变得容易。  \n",
    "同时，使用Dataset.cache方法来确保加载器不需要在每个时期重新从文件中读取数据：  "
   ]
  },
  {
   "cell_type": "code",
   "execution_count": 10,
   "metadata": {},
   "outputs": [],
   "source": [
    "validate_ds = packed_ds.take(N_VALIDATION).cache()\n",
    "train_ds = packed_ds.skip(N_VALIDATION).take(N_TRAIN).cache()"
   ]
  },
  {
   "cell_type": "code",
   "execution_count": 11,
   "metadata": {},
   "outputs": [
    {
     "data": {
      "text/plain": [
       "<CacheDataset shapes: ((28,), ()), types: (tf.float32, tf.float32)>"
      ]
     },
     "execution_count": 11,
     "metadata": {},
     "output_type": "execute_result"
    }
   ],
   "source": [
    "train_ds"
   ]
  },
  {
   "cell_type": "markdown",
   "metadata": {},
   "source": [
    "这些数据集返回单个示例。 使用.batch方法可创建适当大小的批次进行训练。 批处理之前，还记得.shuffle和.repeat训练集。"
   ]
  },
  {
   "cell_type": "code",
   "execution_count": 12,
   "metadata": {},
   "outputs": [],
   "source": [
    "validate_ds = validate_ds.batch(BATCH_SIZE)\n",
    "train_ds = train_ds.shuffle(BUFFER_SIZE).repeat().batch(BATCH_SIZE)"
   ]
  },
  {
   "cell_type": "markdown",
   "metadata": {},
   "source": [
    "### 2. 过拟合示范"
   ]
  },
  {
   "cell_type": "markdown",
   "metadata": {},
   "source": [
    "#### 2.1 训练过程"
   ]
  },
  {
   "cell_type": "markdown",
   "metadata": {},
   "source": [
    "如果在训练过程中逐渐降低学习率，许多模型的训练效果会更好。 使用optimizers.schedules可以随着时间的推移降低学习率："
   ]
  },
  {
   "cell_type": "code",
   "execution_count": 13,
   "metadata": {},
   "outputs": [],
   "source": [
    "lr_schedule = tf.keras.optimizers.schedules.InverseTimeDecay(\n",
    "    0.001, decay_steps=STEPS_PER_EPOCH * 1000, decay_rate=1, staircase=False\n",
    ")\n",
    "\n",
    "\n",
    "def get_optimizer():\n",
    "    return tf.keras.optimizers.Adam(lr_schedule)"
   ]
  },
  {
   "cell_type": "markdown",
   "metadata": {},
   "source": [
    "上面的代码设置了一个schedules.InverseTimeDecay，以双曲线的方式将学习速率在1000个时代降低到基本速率的1/2，在2000个时代降低1/3，依此类推。"
   ]
  },
  {
   "cell_type": "code",
   "execution_count": 14,
   "metadata": {},
   "outputs": [
    {
     "data": {
      "image/png": "[encoded data removed]",
      "text/plain": [
       "<Figure size 576x432 with 1 Axes>"
      ]
     },
     "metadata": {
      "needs_background": "light"
     },
     "output_type": "display_data"
    }
   ],
   "source": [
    "step = np.linspace(0, 100000)\n",
    "lr = lr_schedule(step)\n",
    "plt.figure(figsize=(8, 6))\n",
    "plt.plot(step / STEPS_PER_EPOCH, lr)\n",
    "plt.ylim([0, max(plt.ylim())])\n",
    "plt.xlabel(\"Epoch\")\n",
    "_ = plt.ylabel(\"Learning Rate\")"
   ]
  },
  {
   "cell_type": "markdown",
   "metadata": {},
   "source": [
    "本教程中的每个模型都将使用相同的训练配置。 因此，从回调列表开始，以可重用的方式设置它们。  \n",
    "  \n",
    "本教程的培训会持续很短的时间。 为了减少记录噪音，请使用 **tfdocs.EpochDots** ，它仅显示一个 **.** 每个时期，以及每100个时期的完整指标。  \n",
    "  \n",
    "接下来包括 **callbacks.EarlyStopping** 以避免冗长和不必要的培训时间。 请注意，此回调设置为监视 **val_binary_crossentropy** ，而不是 **val_loss** 。 这种差异稍后将变得很重要。  \n",
    "   \n",
    "使用 **callbacks.TensorBoard** 生成用于训练的TensorBoard日志。"
   ]
  },
  {
   "cell_type": "code",
   "execution_count": 15,
   "metadata": {},
   "outputs": [],
   "source": [
    "def get_callbacks(name):\n",
    "    return [\n",
    "        tfdocs.modeling.EpochDots(),\n",
    "        tf.keras.callbacks.EarlyStopping(\n",
    "            monitor=\"val_binary_crossentropy\", patience=200\n",
    "        ),\n",
    "        tf.keras.callbacks.TensorBoard(logdir / name),\n",
    "    ]"
   ]
  },
  {
   "cell_type": "markdown",
   "metadata": {},
   "source": [
    "同样，每个模型将使用相同的Model.compile和Model.fit设置："
   ]
  },
  {
   "cell_type": "code",
   "execution_count": 16,
   "metadata": {},
   "outputs": [],
   "source": [
    "def compile_and_fit(model, name, optimizer=None, max_epochs=10000):\n",
    "    if optimizer is None:\n",
    "        optimizer = get_optimizer()\n",
    "    model.compile(\n",
    "        optimizer=optimizer,\n",
    "        loss=tf.keras.losses.BinaryCrossentropy(from_logits=True),\n",
    "        metrics=[\n",
    "            tf.keras.losses.BinaryCrossentropy(\n",
    "                from_logits=True, name=\"binary_crossentropy\"\n",
    "            ),\n",
    "            \"accuracy\",\n",
    "        ],\n",
    "    )\n",
    "\n",
    "    model.summary()\n",
    "\n",
    "    history = model.fit(\n",
    "        train_ds,\n",
    "        steps_per_epoch=STEPS_PER_EPOCH,\n",
    "        epochs=max_epochs,\n",
    "        validation_data=validate_ds,\n",
    "        callbacks=get_callbacks(name),\n",
    "        verbose=0,\n",
    "    )\n",
    "    return history"
   ]
  },
  {
   "cell_type": "markdown",
   "metadata": {},
   "source": [
    "#### 2.2 极小的模型"
   ]
  },
  {
   "cell_type": "code",
   "execution_count": 17,
   "metadata": {},
   "outputs": [],
   "source": [
    "tiny_model = tf.keras.Sequential([\n",
    "    keras.layers.Dense(16, activation='elu', input_shape=(FEATURES,)),\n",
    "    keras.layers.Dense(1)\n",
    "])"
   ]
  },
  {
   "cell_type": "code",
   "execution_count": 18,
   "metadata": {},
   "outputs": [],
   "source": [
    "size_histories = {}"
   ]
  },
  {
   "cell_type": "code",
   "execution_count": 19,
   "metadata": {},
   "outputs": [
    {
     "name": "stdout",
     "output_type": "stream",
     "text": [
      "Model: \"sequential\"\n",
      "_________________________________________________________________\n",
      "Layer (type)                 Output Shape              Param #   \n",
      "=================================================================\n",
      "dense (Dense)                (None, 16)                464       \n",
      "_________________________________________________________________\n",
      "dense_1 (Dense)              (None, 1)                 17        \n",
      "=================================================================\n",
      "Total params: 481\n",
      "Trainable params: 481\n",
      "Non-trainable params: 0\n",
      "_________________________________________________________________\n",
      "WARNING:tensorflow:From /Library/Frameworks/Python.framework/Versions/3.7/lib/python3.7/site-packages/tensorflow/python/ops/summary_ops_v2.py:1277: stop (from tensorflow.python.eager.profiler) is deprecated and will be removed after 2020-07-01.\n",
      "Instructions for updating:\n",
      "use `tf.profiler.experimental.stop` instead.\n",
      "WARNING:tensorflow:Callbacks method `on_train_batch_end` is slow compared to the batch time (batch time: 0.0029s vs `on_train_batch_end` time: 0.0351s). Check your callbacks.\n",
      "\n",
      "Epoch: 0, accuracy:0.4933,  binary_crossentropy:0.7335,  loss:0.7335,  val_accuracy:0.4750,  val_binary_crossentropy:0.7211,  val_loss:0.7211,  \n",
      "....................................................................................................\n",
      "Epoch: 100, accuracy:0.6045,  binary_crossentropy:0.6247,  loss:0.6247,  val_accuracy:0.5820,  val_binary_crossentropy:0.6308,  val_loss:0.6308,  \n",
      "....................................................................................................\n",
      "Epoch: 200, accuracy:0.6310,  binary_crossentropy:0.6133,  loss:0.6133,  val_accuracy:0.5920,  val_binary_crossentropy:0.6223,  val_loss:0.6223,  \n",
      "....................................................................................................\n",
      "Epoch: 300, accuracy:0.6452,  binary_crossentropy:0.6063,  loss:0.6063,  val_accuracy:0.6130,  val_binary_crossentropy:0.6147,  val_loss:0.6147,  \n",
      "....................................................................................................\n",
      "Epoch: 400, accuracy:0.6429,  binary_crossentropy:0.6004,  loss:0.6004,  val_accuracy:0.6500,  val_binary_crossentropy:0.6064,  val_loss:0.6064,  \n",
      "....................................................................................................\n",
      "Epoch: 500, accuracy:0.6541,  binary_crossentropy:0.5954,  loss:0.5954,  val_accuracy:0.6430,  val_binary_crossentropy:0.6007,  val_loss:0.6007,  \n",
      "....................................................................................................\n",
      "Epoch: 600, accuracy:0.6594,  binary_crossentropy:0.5912,  loss:0.5912,  val_accuracy:0.6510,  val_binary_crossentropy:0.5971,  val_loss:0.5971,  \n",
      "....................................................................................................\n",
      "Epoch: 700, accuracy:0.6647,  binary_crossentropy:0.5882,  loss:0.5882,  val_accuracy:0.6520,  val_binary_crossentropy:0.5948,  val_loss:0.5948,  \n",
      "....................................................................................................\n",
      "Epoch: 800, accuracy:0.6680,  binary_crossentropy:0.5866,  loss:0.5866,  val_accuracy:0.6470,  val_binary_crossentropy:0.5942,  val_loss:0.5942,  \n",
      "....................................................................................................\n",
      "Epoch: 900, accuracy:0.6681,  binary_crossentropy:0.5844,  loss:0.5844,  val_accuracy:0.6630,  val_binary_crossentropy:0.5925,  val_loss:0.5925,  \n",
      "....................................................................................................\n",
      "Epoch: 1000, accuracy:0.6677,  binary_crossentropy:0.5829,  loss:0.5829,  val_accuracy:0.6690,  val_binary_crossentropy:0.5915,  val_loss:0.5915,  \n",
      "....................................................................................................\n",
      "Epoch: 1100, accuracy:0.6782,  binary_crossentropy:0.5819,  loss:0.5819,  val_accuracy:0.6430,  val_binary_crossentropy:0.5931,  val_loss:0.5931,  \n",
      "....................................................................................................\n",
      "Epoch: 1200, accuracy:0.6726,  binary_crossentropy:0.5810,  loss:0.5810,  val_accuracy:0.6740,  val_binary_crossentropy:0.5900,  val_loss:0.5900,  \n",
      "....................................................................................................\n",
      "Epoch: 1300, accuracy:0.6751,  binary_crossentropy:0.5795,  loss:0.5795,  val_accuracy:0.6590,  val_binary_crossentropy:0.5913,  val_loss:0.5913,  \n",
      "....................................................................................................\n",
      "Epoch: 1400, accuracy:0.6773,  binary_crossentropy:0.5789,  loss:0.5789,  val_accuracy:0.6560,  val_binary_crossentropy:0.5916,  val_loss:0.5916,  \n",
      "....................................................................................................\n",
      "Epoch: 1500, accuracy:0.6789,  binary_crossentropy:0.5781,  loss:0.5781,  val_accuracy:0.6520,  val_binary_crossentropy:0.5918,  val_loss:0.5918,  \n",
      "....................................................................................................\n",
      "Epoch: 1600, accuracy:0.6792,  binary_crossentropy:0.5772,  loss:0.5772,  val_accuracy:0.6570,  val_binary_crossentropy:0.5916,  val_loss:0.5916,  \n",
      "..................................................................."
     ]
    }
   ],
   "source": [
    "size_histories[\"Tiny\"] = compile_and_fit(tiny_model, \"sizes/Tiny\")"
   ]
  },
  {
   "cell_type": "code",
   "execution_count": 20,
   "metadata": {},
   "outputs": [
    {
     "data": {
      "text/plain": [
       "(0.5, 0.7)"
      ]
     },
     "execution_count": 20,
     "metadata": {},
     "output_type": "execute_result"
    },
    {
     "data": {
      "image/png": "[encoded data removed]",
      "text/plain": [
       "<Figure size 432x288 with 1 Axes>"
      ]
     },
     "metadata": {
      "needs_background": "light"
     },
     "output_type": "display_data"
    }
   ],
   "source": [
    "plotter = tfdocs.plots.HistoryPlotter(metric=\"binary_crossentropy\", smoothing_std=10)\n",
    "plotter.plot(size_histories)\n",
    "plt.ylim([0.5, 0.7])"
   ]
  },
  {
   "cell_type": "markdown",
   "metadata": {},
   "source": [
    "#### 2.3 小的模型"
   ]
  },
  {
   "cell_type": "code",
   "execution_count": 21,
   "metadata": {},
   "outputs": [],
   "source": [
    "small_model = keras.Sequential([\n",
    "    # `input_shape` is only required here so that `.summary` works.\n",
    "    keras.layers.Dense(16, activation=\"elu\", input_shape=(FEATURES,)),\n",
    "    keras.layers.Dense(16, activation=\"elu\"),\n",
    "    keras.layers.Dense(1)\n",
    "])"
   ]
  },
  {
   "cell_type": "code",
   "execution_count": 22,
   "metadata": {},
   "outputs": [
    {
     "name": "stdout",
     "output_type": "stream",
     "text": [
      "Model: \"sequential_1\"\n",
      "_________________________________________________________________\n",
      "Layer (type)                 Output Shape              Param #   \n",
      "=================================================================\n",
      "dense_2 (Dense)              (None, 16)                464       \n",
      "_________________________________________________________________\n",
      "dense_3 (Dense)              (None, 16)                272       \n",
      "_________________________________________________________________\n",
      "dense_4 (Dense)              (None, 1)                 17        \n",
      "=================================================================\n",
      "Total params: 753\n",
      "Trainable params: 753\n",
      "Non-trainable params: 0\n",
      "_________________________________________________________________\n",
      "WARNING:tensorflow:Callbacks method `on_train_batch_end` is slow compared to the batch time (batch time: 0.0024s vs `on_train_batch_end` time: 0.0503s). Check your callbacks.\n",
      "\n",
      "Epoch: 0, accuracy:0.4680,  binary_crossentropy:0.7240,  loss:0.7240,  val_accuracy:0.4770,  val_binary_crossentropy:0.7020,  val_loss:0.7020,  \n",
      "....................................................................................................\n",
      "Epoch: 100, accuracy:0.6406,  binary_crossentropy:0.6009,  loss:0.6009,  val_accuracy:0.6260,  val_binary_crossentropy:0.6022,  val_loss:0.6022,  \n",
      "....................................................................................................\n",
      "Epoch: 200, accuracy:0.6739,  binary_crossentropy:0.5815,  loss:0.5815,  val_accuracy:0.6400,  val_binary_crossentropy:0.5913,  val_loss:0.5913,  \n",
      "....................................................................................................\n",
      "Epoch: 300, accuracy:0.6825,  binary_crossentropy:0.5718,  loss:0.5718,  val_accuracy:0.6900,  val_binary_crossentropy:0.5825,  val_loss:0.5825,  \n",
      "....................................................................................................\n",
      "Epoch: 400, accuracy:0.6890,  binary_crossentropy:0.5649,  loss:0.5649,  val_accuracy:0.6530,  val_binary_crossentropy:0.5895,  val_loss:0.5895,  \n",
      "....................................................................................................\n",
      "Epoch: 500, accuracy:0.6944,  binary_crossentropy:0.5595,  loss:0.5595,  val_accuracy:0.6660,  val_binary_crossentropy:0.5897,  val_loss:0.5897,  \n",
      "."
     ]
    }
   ],
   "source": [
    "size_histories[\"Small\"] = compile_and_fit(small_model, \"sizes/Small\")"
   ]
  },
  {
   "cell_type": "markdown",
   "metadata": {},
   "source": [
    "#### 2.4 中等模型"
   ]
  },
  {
   "cell_type": "code",
   "execution_count": 23,
   "metadata": {},
   "outputs": [],
   "source": [
    "medium_model = keras.Sequential([\n",
    "    keras.layers.Dense(64, activation=\"elu\", input_shape=(FEATURES,)),\n",
    "    keras.layers.Dense(64, activation=\"elu\"),\n",
    "    keras.layers.Dense(64, activation=\"elu\"),\n",
    "    keras.layers.Dense(1)\n",
    "])"
   ]
  },
  {
   "cell_type": "code",
   "execution_count": 24,
   "metadata": {},
   "outputs": [
    {
     "name": "stdout",
     "output_type": "stream",
     "text": [
      "Model: \"sequential_2\"\n",
      "_________________________________________________________________\n",
      "Layer (type)                 Output Shape              Param #   \n",
      "=================================================================\n",
      "dense_5 (Dense)              (None, 64)                1856      \n",
      "_________________________________________________________________\n",
      "dense_6 (Dense)              (None, 64)                4160      \n",
      "_________________________________________________________________\n",
      "dense_7 (Dense)              (None, 64)                4160      \n",
      "_________________________________________________________________\n",
      "dense_8 (Dense)              (None, 1)                 65        \n",
      "=================================================================\n",
      "Total params: 10,241\n",
      "Trainable params: 10,241\n",
      "Non-trainable params: 0\n",
      "_________________________________________________________________\n",
      "WARNING:tensorflow:Callbacks method `on_train_batch_end` is slow compared to the batch time (batch time: 0.0043s vs `on_train_batch_end` time: 0.0764s). Check your callbacks.\n",
      "\n",
      "Epoch: 0, accuracy:0.4941,  binary_crossentropy:0.7020,  loss:0.7020,  val_accuracy:0.4720,  val_binary_crossentropy:0.6812,  val_loss:0.6812,  \n",
      "....................................................................................................\n",
      "Epoch: 100, accuracy:0.7132,  binary_crossentropy:0.5295,  loss:0.5295,  val_accuracy:0.6650,  val_binary_crossentropy:0.6031,  val_loss:0.6031,  \n",
      "....................................................................................................\n",
      "Epoch: 200, accuracy:0.7795,  binary_crossentropy:0.4362,  loss:0.4362,  val_accuracy:0.6500,  val_binary_crossentropy:0.6874,  val_loss:0.6874,  \n",
      "........................................................................"
     ]
    }
   ],
   "source": [
    "size_histories[\"Medium\"] = compile_and_fit(medium_model, \"sizes/Medium\")"
   ]
  },
  {
   "cell_type": "markdown",
   "metadata": {},
   "source": [
    "#### 2.5 大模型"
   ]
  },
  {
   "cell_type": "code",
   "execution_count": 25,
   "metadata": {},
   "outputs": [],
   "source": [
    "large_model = keras.Sequential([\n",
    "    keras.layers.Dense(512, activation=\"elu\", input_shape=(FEATURES,)),\n",
    "    keras.layers.Dense(512, activation=\"elu\"),\n",
    "    keras.layers.Dense(512, activation=\"elu\"),\n",
    "    keras.layers.Dense(512, activation=\"elu\"),\n",
    "    keras.layers.Dense(1)\n",
    "])"
   ]
  },
  {
   "cell_type": "code",
   "execution_count": 26,
   "metadata": {},
   "outputs": [
    {
     "name": "stdout",
     "output_type": "stream",
     "text": [
      "Model: \"sequential_3\"\n",
      "_________________________________________________________________\n",
      "Layer (type)                 Output Shape              Param #   \n",
      "=================================================================\n",
      "dense_9 (Dense)              (None, 512)               14848     \n",
      "_________________________________________________________________\n",
      "dense_10 (Dense)             (None, 512)               262656    \n",
      "_________________________________________________________________\n",
      "dense_11 (Dense)             (None, 512)               262656    \n",
      "_________________________________________________________________\n",
      "dense_12 (Dense)             (None, 512)               262656    \n",
      "_________________________________________________________________\n",
      "dense_13 (Dense)             (None, 1)                 513       \n",
      "=================================================================\n",
      "Total params: 803,329\n",
      "Trainable params: 803,329\n",
      "Non-trainable params: 0\n",
      "_________________________________________________________________\n",
      "WARNING:tensorflow:Callbacks method `on_train_batch_end` is slow compared to the batch time (batch time: 0.0166s vs `on_train_batch_end` time: 0.0734s). Check your callbacks.\n",
      "\n",
      "Epoch: 0, accuracy:0.5030,  binary_crossentropy:0.7861,  loss:0.7861,  val_accuracy:0.5470,  val_binary_crossentropy:0.6679,  val_loss:0.6679,  \n",
      "....................................................................................................\n",
      "Epoch: 100, accuracy:1.0000,  binary_crossentropy:0.0021,  loss:0.0021,  val_accuracy:0.6510,  val_binary_crossentropy:1.7583,  val_loss:1.7583,  \n",
      "....................................................................................................\n",
      "Epoch: 200, accuracy:1.0000,  binary_crossentropy:0.0001,  loss:0.0001,  val_accuracy:0.6530,  val_binary_crossentropy:2.3899,  val_loss:2.3899,  \n",
      "......................."
     ]
    }
   ],
   "source": [
    "size_histories[\"large\"] = compile_and_fit(large_model, \"sizes/large\")"
   ]
  },
  {
   "cell_type": "markdown",
   "metadata": {},
   "source": [
    "#### 2.6 绘制损失图"
   ]
  },
  {
   "cell_type": "markdown",
   "metadata": {},
   "source": [
    "在此示例中，通常，只有“ Tiny”模型设法避免完全过拟合，并且每个较大的模型都更快地过拟合数据。 对于“大型”模型而言，这变得如此严重，以至于您需要将绘图切换为对数比例才能真正看到正在发生的事情。  \n",
    "* 差异很小是正常的。  \n",
    "  \n",
    "* 如果两个指标都朝着同一方向发展，那么一切都很好。  \n",
    "  \n",
    "* 如果在培训指标继续提高的同时，验证指标开始停滞不前，那么您可能已经过拟合了。  \n",
    "  \n",
    "* 如果验证指标的方向错误，则表明该模型过度拟合。  "
   ]
  },
  {
   "cell_type": "code",
   "execution_count": 27,
   "metadata": {},
   "outputs": [
    {
     "data": {
      "text/plain": [
       "Text(0.5, 0, 'Epochs [Log Scale]')"
      ]
     },
     "execution_count": 27,
     "metadata": {},
     "output_type": "execute_result"
    },
    {
     "data": {
      "image/png": "[encoded data removed]",
      "text/plain": [
       "<Figure size 432x288 with 1 Axes>"
      ]
     },
     "metadata": {
      "needs_background": "light"
     },
     "output_type": "display_data"
    }
   ],
   "source": [
    "plotter.plot(size_histories)\n",
    "a = plt.xscale(\"log\")\n",
    "plt.xlim([5, max(plt.xlim())])\n",
    "plt.ylim([0.5, 0.7])\n",
    "plt.xlabel(\"Epochs [Log Scale]\")"
   ]
  },
  {
   "cell_type": "markdown",
   "metadata": {},
   "source": [
    "#### 2.7 在TensorBoard中显示"
   ]
  },
  {
   "cell_type": "code",
   "execution_count": 28,
   "metadata": {},
   "outputs": [
    {
     "data": {
      "text/html": [
       "\n",
       "      <iframe id=\"tensorboard-frame-b1d34c6fd9371bb1\" width=\"100%\" height=\"800\" frameborder=\"0\">\n",
       "      </iframe>\n",
       "      <script>\n",
       "        (function() {\n",
       "          const frame = document.getElementById(\"tensorboard-frame-b1d34c6fd9371bb1\");\n",
       "          const url = new URL(\"/\", window.location);\n",
       "          const port = 6006;\n",
       "          if (port) {\n",
       "            url.port = port;\n",
       "          }\n",
       "          frame.src = url;\n",
       "        })();\n",
       "      </script>\n",
       "    "
      ],
      "text/plain": [
       "<IPython.core.display.HTML object>"
      ]
     },
     "metadata": {},
     "output_type": "display_data"
    }
   ],
   "source": [
    "%load_ext tensorboard\n",
    "%tensorboard --logdir {logdir}/sizes"
   ]
  },
  {
   "cell_type": "code",
   "execution_count": 41,
   "metadata": {},
   "outputs": [
    {
     "data": {
      "text/html": [
       "\n",
       "        <iframe\n",
       "            width=\"100%\"\n",
       "            height=\"800px\"\n",
       "            src=\"https://tensorboard.dev/experiment/vW7jmmF9TmKmy3rbheMQpw/#scalars&_smoothingWeight=0.97\"\n",
       "            frameborder=\"0\"\n",
       "            allowfullscreen\n",
       "        ></iframe>\n",
       "        "
      ],
      "text/plain": [
       "<IPython.lib.display.IFrame at 0x14c7dccf8>"
      ]
     },
     "execution_count": 41,
     "metadata": {},
     "output_type": "execute_result"
    }
   ],
   "source": [
    "display.IFrame(\n",
    "    src=\"https://tensorboard.dev/experiment/vW7jmmF9TmKmy3rbheMQpw/#scalars&_smoothingWeight=0.97\",\n",
    "    width=\"100%\",\n",
    "    height=\"800px\",\n",
    ")"
   ]
  },
  {
   "cell_type": "markdown",
   "metadata": {},
   "source": [
    "### 3. 阻止过拟合的策略"
   ]
  },
  {
   "cell_type": "markdown",
   "metadata": {},
   "source": [
    "复制上面“ Tiny”模型中的训练日志，以用作比较的基准。"
   ]
  },
  {
   "cell_type": "code",
   "execution_count": 29,
   "metadata": {},
   "outputs": [
    {
     "data": {
      "text/plain": [
       "PosixPath('/var/folders/f5/ndqlrckj6_924k3kxxx7wd0r0000gn/T/tmpk92iyid3/tensorboard_logs/regularizers/Tiny')"
      ]
     },
     "execution_count": 29,
     "metadata": {},
     "output_type": "execute_result"
    }
   ],
   "source": [
    "shutil.rmtree(logdir / \"regularizers/Tiny\", ignore_errors=True)\n",
    "shutil.copytree(logdir / \"sizes/Tiny\", logdir / \"regularizers/Tiny\")"
   ]
  },
  {
   "cell_type": "code",
   "execution_count": 30,
   "metadata": {},
   "outputs": [],
   "source": [
    "regularizer_histories = {}\n",
    "regularizer_histories[\"Tiny\"] = size_histories[\"Tiny\"]"
   ]
  },
  {
   "cell_type": "markdown",
   "metadata": {},
   "source": [
    "#### 3.1 正则化"
   ]
  },
  {
   "cell_type": "code",
   "execution_count": 31,
   "metadata": {},
   "outputs": [
    {
     "name": "stdout",
     "output_type": "stream",
     "text": [
      "Model: \"sequential_4\"\n",
      "_________________________________________________________________\n",
      "Layer (type)                 Output Shape              Param #   \n",
      "=================================================================\n",
      "dense_14 (Dense)             (None, 512)               14848     \n",
      "_________________________________________________________________\n",
      "dense_15 (Dense)             (None, 512)               262656    \n",
      "_________________________________________________________________\n",
      "dense_16 (Dense)             (None, 512)               262656    \n",
      "_________________________________________________________________\n",
      "dense_17 (Dense)             (None, 512)               262656    \n",
      "_________________________________________________________________\n",
      "dense_18 (Dense)             (None, 1)                 513       \n",
      "=================================================================\n",
      "Total params: 803,329\n",
      "Trainable params: 803,329\n",
      "Non-trainable params: 0\n",
      "_________________________________________________________________\n",
      "WARNING:tensorflow:Callbacks method `on_train_batch_end` is slow compared to the batch time (batch time: 0.0186s vs `on_train_batch_end` time: 0.0890s). Check your callbacks.\n",
      "\n",
      "Epoch: 0, accuracy:0.5039,  binary_crossentropy:0.8298,  loss:2.3591,  val_accuracy:0.5610,  val_binary_crossentropy:0.6862,  val_loss:2.1435,  \n",
      "....................................................................................................\n",
      "Epoch: 100, accuracy:0.6612,  binary_crossentropy:0.5952,  loss:0.6186,  val_accuracy:0.6630,  val_binary_crossentropy:0.5821,  val_loss:0.6055,  \n",
      "....................................................................................................\n",
      "Epoch: 200, accuracy:0.6634,  binary_crossentropy:0.5834,  loss:0.6066,  val_accuracy:0.6870,  val_binary_crossentropy:0.5776,  val_loss:0.6008,  \n",
      "....................................................................................................\n",
      "Epoch: 300, accuracy:0.6840,  binary_crossentropy:0.5691,  loss:0.5940,  val_accuracy:0.6720,  val_binary_crossentropy:0.5819,  val_loss:0.6072,  \n",
      "....................................................................................................\n",
      "Epoch: 400, accuracy:0.7018,  binary_crossentropy:0.5568,  loss:0.5835,  val_accuracy:0.6670,  val_binary_crossentropy:0.5776,  val_loss:0.6044,  \n",
      "................................................................."
     ]
    }
   ],
   "source": [
    "l2_model = keras.Sequential([\n",
    "    keras.layers.Dense(512, activation=\"elu\", kernel_regularizer=keras.regularizers.l2(0.001), input_shape=(FEATURES,)),\n",
    "    keras.layers.Dense(512, activation=\"elu\", kernel_regularizer=keras.regularizers.l2(0.001)),\n",
    "    keras.layers.Dense(512, activation=\"elu\", kernel_regularizer=keras.regularizers.l2(0.001)),\n",
    "    keras.layers.Dense(512, activation=\"elu\", kernel_regularizer=keras.regularizers.l2(0.001)),\n",
    "    keras.layers.Dense(1)\n",
    "])\n",
    "\n",
    "regularizer_histories[\"l2\"] = compile_and_fit(l2_model, \"regularizers/l2\")"
   ]
  },
  {
   "cell_type": "code",
   "execution_count": 32,
   "metadata": {},
   "outputs": [
    {
     "data": {
      "text/plain": [
       "(0.5, 0.7)"
      ]
     },
     "execution_count": 32,
     "metadata": {},
     "output_type": "execute_result"
    },
    {
     "data": {
      "image/png": "[encoded data removed]",
      "text/plain": [
       "<Figure size 432x288 with 1 Axes>"
      ]
     },
     "metadata": {
      "needs_background": "light"
     },
     "output_type": "display_data"
    }
   ],
   "source": [
    "plotter.plot(regularizer_histories)\n",
    "plt.ylim([0.5, 0.7])"
   ]
  },
  {
   "cell_type": "markdown",
   "metadata": {},
   "source": [
    "#### 3.2 dropout"
   ]
  },
  {
   "cell_type": "code",
   "execution_count": 34,
   "metadata": {},
   "outputs": [
    {
     "name": "stdout",
     "output_type": "stream",
     "text": [
      "Model: \"sequential_5\"\n",
      "_________________________________________________________________\n",
      "Layer (type)                 Output Shape              Param #   \n",
      "=================================================================\n",
      "dense_19 (Dense)             (None, 512)               14848     \n",
      "_________________________________________________________________\n",
      "dropout (Dropout)            (None, 512)               0         \n",
      "_________________________________________________________________\n",
      "dense_20 (Dense)             (None, 512)               262656    \n",
      "_________________________________________________________________\n",
      "dropout_1 (Dropout)          (None, 512)               0         \n",
      "_________________________________________________________________\n",
      "dense_21 (Dense)             (None, 512)               262656    \n",
      "_________________________________________________________________\n",
      "dropout_2 (Dropout)          (None, 512)               0         \n",
      "_________________________________________________________________\n",
      "dense_22 (Dense)             (None, 512)               262656    \n",
      "_________________________________________________________________\n",
      "dropout_3 (Dropout)          (None, 512)               0         \n",
      "_________________________________________________________________\n",
      "dense_23 (Dense)             (None, 1)                 513       \n",
      "=================================================================\n",
      "Total params: 803,329\n",
      "Trainable params: 803,329\n",
      "Non-trainable params: 0\n",
      "_________________________________________________________________\n",
      "WARNING:tensorflow:Callbacks method `on_train_batch_end` is slow compared to the batch time (batch time: 0.0255s vs `on_train_batch_end` time: 0.0757s). Check your callbacks.\n",
      "\n",
      "Epoch: 0, accuracy:0.5049,  binary_crossentropy:0.7881,  loss:0.7881,  val_accuracy:0.5060,  val_binary_crossentropy:0.6783,  val_loss:0.6783,  \n",
      "....................................................................................................\n",
      "Epoch: 100, accuracy:0.6559,  binary_crossentropy:0.5955,  loss:0.5955,  val_accuracy:0.6640,  val_binary_crossentropy:0.5835,  val_loss:0.5835,  \n",
      "....................................................................................................\n",
      "Epoch: 200, accuracy:0.6947,  binary_crossentropy:0.5539,  loss:0.5539,  val_accuracy:0.6830,  val_binary_crossentropy:0.5843,  val_loss:0.5843,  \n",
      "....................................................................................................\n",
      "Epoch: 300, accuracy:0.7254,  binary_crossentropy:0.5082,  loss:0.5082,  val_accuracy:0.6920,  val_binary_crossentropy:0.6018,  val_loss:0.6018,  \n",
      "..........................................................................."
     ]
    }
   ],
   "source": [
    "dropout_model = keras.Sequential([\n",
    "    keras.layers.Dense(512, activation='elu', input_shape=(FEATURES,)),\n",
    "    keras.layers.Dropout(0.5),\n",
    "    keras.layers.Dense(512, activation='elu'),\n",
    "    keras.layers.Dropout(0.5),\n",
    "    keras.layers.Dense(512, activation='elu'),\n",
    "    keras.layers.Dropout(0.5),\n",
    "    keras.layers.Dense(512, activation='elu'),\n",
    "    keras.layers.Dropout(0.5),\n",
    "    keras.layers.Dense(1)\n",
    "])\n",
    "\n",
    "regularizer_histories['dropout'] = compile_and_fit(dropout_model, \"regularizers/dropout\")"
   ]
  },
  {
   "cell_type": "code",
   "execution_count": 35,
   "metadata": {},
   "outputs": [
    {
     "data": {
      "text/plain": [
       "(0.5, 0.7)"
      ]
     },
     "execution_count": 35,
     "metadata": {},
     "output_type": "execute_result"
    },
    {
     "data": {
      "image/png": "[encoded data removed]",
      "text/plain": [
       "<Figure size 432x288 with 1 Axes>"
      ]
     },
     "metadata": {
      "needs_background": "light"
     },
     "output_type": "display_data"
    }
   ],
   "source": [
    "plotter.plot(regularizer_histories)\n",
    "plt.ylim([0.5, 0.7])"
   ]
  },
  {
   "cell_type": "markdown",
   "metadata": {},
   "source": [
    "#### 3.3 L2正则与dropout结合"
   ]
  },
  {
   "cell_type": "code",
   "execution_count": 37,
   "metadata": {},
   "outputs": [
    {
     "name": "stdout",
     "output_type": "stream",
     "text": [
      "Model: \"sequential_6\"\n",
      "_________________________________________________________________\n",
      "Layer (type)                 Output Shape              Param #   \n",
      "=================================================================\n",
      "dense_24 (Dense)             (None, 512)               14848     \n",
      "_________________________________________________________________\n",
      "dropout_4 (Dropout)          (None, 512)               0         \n",
      "_________________________________________________________________\n",
      "dense_25 (Dense)             (None, 512)               262656    \n",
      "_________________________________________________________________\n",
      "dropout_5 (Dropout)          (None, 512)               0         \n",
      "_________________________________________________________________\n",
      "dense_26 (Dense)             (None, 512)               262656    \n",
      "_________________________________________________________________\n",
      "dropout_6 (Dropout)          (None, 512)               0         \n",
      "_________________________________________________________________\n",
      "dense_27 (Dense)             (None, 512)               262656    \n",
      "_________________________________________________________________\n",
      "dropout_7 (Dropout)          (None, 512)               0         \n",
      "_________________________________________________________________\n",
      "dense_28 (Dense)             (None, 1)                 513       \n",
      "=================================================================\n",
      "Total params: 803,329\n",
      "Trainable params: 803,329\n",
      "Non-trainable params: 0\n",
      "_________________________________________________________________\n",
      "WARNING:tensorflow:Callbacks method `on_train_batch_end` is slow compared to the batch time (batch time: 0.0250s vs `on_train_batch_end` time: 0.0810s). Check your callbacks.\n",
      "\n",
      "Epoch: 0, accuracy:0.5009,  binary_crossentropy:0.8087,  loss:0.9672,  val_accuracy:0.4820,  val_binary_crossentropy:0.6742,  val_loss:0.8320,  \n",
      "....................................................................................................\n",
      "Epoch: 100, accuracy:0.6442,  binary_crossentropy:0.6059,  loss:0.6350,  val_accuracy:0.6320,  val_binary_crossentropy:0.5887,  val_loss:0.6176,  \n",
      "....................................................................................................\n",
      "Epoch: 200, accuracy:0.6638,  binary_crossentropy:0.5906,  loss:0.6157,  val_accuracy:0.6710,  val_binary_crossentropy:0.5753,  val_loss:0.6004,  \n",
      "....................................................................................................\n",
      "Epoch: 300, accuracy:0.6725,  binary_crossentropy:0.5853,  loss:0.6130,  val_accuracy:0.6770,  val_binary_crossentropy:0.5611,  val_loss:0.5887,  \n",
      "....................................................................................................\n",
      "Epoch: 400, accuracy:0.6759,  binary_crossentropy:0.5767,  loss:0.6059,  val_accuracy:0.6670,  val_binary_crossentropy:0.5681,  val_loss:0.5974,  \n",
      "....................................................................................................\n",
      "Epoch: 500, accuracy:0.6821,  binary_crossentropy:0.5701,  loss:0.6017,  val_accuracy:0.6720,  val_binary_crossentropy:0.5580,  val_loss:0.5895,  \n",
      "....................................................................................................\n",
      "Epoch: 600, accuracy:0.6862,  binary_crossentropy:0.5664,  loss:0.5997,  val_accuracy:0.6920,  val_binary_crossentropy:0.5431,  val_loss:0.5765,  \n",
      "....................................................................................................\n",
      "Epoch: 700, accuracy:0.6878,  binary_crossentropy:0.5651,  loss:0.5995,  val_accuracy:0.6820,  val_binary_crossentropy:0.5518,  val_loss:0.5862,  \n",
      "....................................................................................................\n",
      "Epoch: 800, accuracy:0.6917,  binary_crossentropy:0.5575,  loss:0.5932,  val_accuracy:0.7110,  val_binary_crossentropy:0.5439,  val_loss:0.5796,  \n",
      "....................................................................................................\n",
      "Epoch: 900, accuracy:0.6953,  binary_crossentropy:0.5545,  loss:0.5913,  val_accuracy:0.7180,  val_binary_crossentropy:0.5388,  val_loss:0.5756,  \n",
      "....................................................................................................\n",
      "Epoch: 1000, accuracy:0.6928,  binary_crossentropy:0.5580,  loss:0.5961,  val_accuracy:0.6930,  val_binary_crossentropy:0.5465,  val_loss:0.5847,  \n",
      "....................................................................................................\n",
      "Epoch: 1100, accuracy:0.7007,  binary_crossentropy:0.5474,  loss:0.5866,  val_accuracy:0.6950,  val_binary_crossentropy:0.5438,  val_loss:0.5831,  \n",
      "....................................................................................................\n",
      "Epoch: 1200, accuracy:0.7032,  binary_crossentropy:0.5476,  loss:0.5877,  val_accuracy:0.7040,  val_binary_crossentropy:0.5426,  val_loss:0.5826,  \n",
      "....................................................................................................\n",
      "Epoch: 1300, accuracy:0.6986,  binary_crossentropy:0.5486,  loss:0.5899,  val_accuracy:0.7040,  val_binary_crossentropy:0.5437,  val_loss:0.5850,  \n",
      ".."
     ]
    }
   ],
   "source": [
    "combined_model = keras.Sequential(\n",
    "    [\n",
    "        keras.layers.Dense(\n",
    "            512,\n",
    "            kernel_regularizer=keras.regularizers.l2(0.0001),\n",
    "            activation=\"elu\",\n",
    "            input_shape=(FEATURES,),\n",
    "        ),\n",
    "        keras.layers.Dropout(0.5),\n",
    "        keras.layers.Dense(\n",
    "            512, kernel_regularizer=keras.regularizers.l2(0.0001), activation=\"elu\"\n",
    "        ),\n",
    "        keras.layers.Dropout(0.5),\n",
    "        keras.layers.Dense(\n",
    "            512, kernel_regularizer=keras.regularizers.l2(0.0001), activation=\"elu\"\n",
    "        ),\n",
    "        keras.layers.Dropout(0.5),\n",
    "        keras.layers.Dense(\n",
    "            512, kernel_regularizer=keras.regularizers.l2(0.0001), activation=\"elu\"\n",
    "        ),\n",
    "        keras.layers.Dropout(0.5),\n",
    "        keras.layers.Dense(1),\n",
    "    ]\n",
    ")\n",
    "\n",
    "regularizer_histories[\"combined\"] = compile_and_fit(\n",
    "    combined_model, \"regularizers/combined\"\n",
    ")"
   ]
  },
  {
   "cell_type": "code",
   "execution_count": 38,
   "metadata": {},
   "outputs": [
    {
     "data": {
      "text/plain": [
       "(0.5, 0.7)"
      ]
     },
     "execution_count": 38,
     "metadata": {},
     "output_type": "execute_result"
    },
    {
     "data": {
      "image/png": "[encoded data removed]",
      "text/plain": [
       "<Figure size 432x288 with 1 Axes>"
      ]
     },
     "metadata": {
      "needs_background": "light"
     },
     "output_type": "display_data"
    }
   ],
   "source": [
    "plotter.plot(regularizer_histories)\n",
    "plt.ylim([0.5, 0.7])"
   ]
  },
  {
   "cell_type": "markdown",
   "metadata": {},
   "source": [
    "#### 3.4 在TensorBoard中显示"
   ]
  },
  {
   "cell_type": "code",
   "execution_count": 39,
   "metadata": {},
   "outputs": [
    {
     "data": {
      "text/html": [
       "\n",
       "      <iframe id=\"tensorboard-frame-b524551021cae6dc\" width=\"100%\" height=\"800\" frameborder=\"0\">\n",
       "      </iframe>\n",
       "      <script>\n",
       "        (function() {\n",
       "          const frame = document.getElementById(\"tensorboard-frame-b524551021cae6dc\");\n",
       "          const url = new URL(\"/\", window.location);\n",
       "          const port = 6007;\n",
       "          if (port) {\n",
       "            url.port = port;\n",
       "          }\n",
       "          frame.src = url;\n",
       "        })();\n",
       "      </script>\n",
       "    "
      ],
      "text/plain": [
       "<IPython.core.display.HTML object>"
      ]
     },
     "metadata": {},
     "output_type": "display_data"
    }
   ],
   "source": [
    "%tensorboard --logdir {logdir}/regularizers"
   ]
  },
  {
   "cell_type": "code",
   "execution_count": 42,
   "metadata": {},
   "outputs": [
    {
     "data": {
      "text/html": [
       "\n",
       "        <iframe\n",
       "            width=\"100%\"\n",
       "            height=\"800px\"\n",
       "            src=\"https://tensorboard.dev/experiment/fGInKDo8TXes1z7HQku9mw/#scalars&_smoothingWeight=0.97\"\n",
       "            frameborder=\"0\"\n",
       "            allowfullscreen\n",
       "        ></iframe>\n",
       "        "
      ],
      "text/plain": [
       "<IPython.lib.display.IFrame at 0x14c84eac8>"
      ]
     },
     "execution_count": 42,
     "metadata": {},
     "output_type": "execute_result"
    }
   ],
   "source": [
    "display.IFrame(\n",
    "    src=\"https://tensorboard.dev/experiment/fGInKDo8TXes1z7HQku9mw/#scalars&_smoothingWeight=0.97\",\n",
    "    width=\"100%\",\n",
    "    height=\"800px\",\n",
    ")"
   ]
  },
  {
   "cell_type": "markdown",
   "metadata": {},
   "source": [
    "### 4. 总结"
   ]
  },
  {
   "cell_type": "markdown",
   "metadata": {},
   "source": [
    "以下是防止神经网络过度拟合的最常用方法：  \n",
    "1. 获取更多的训练数据；  \n",
    "2. 减小网络的容量；  \n",
    "3. 正则化；\n",
    "4. dropout。  \n",
    "  \n",
    "请记住，每种方法都可以单独提供帮助，但通常将它们组合起来会更加有效。  "
   ]
  },
  {
   "cell_type": "code",
   "execution_count": null,
   "metadata": {},
   "outputs": [],
   "source": []
  }
 ],
 "metadata": {
  "kernelspec": {
   "display_name": "Python 3",
   "language": "python",
   "name": "python3"
  },
  "language_info": {
   "codemirror_mode": {
    "name": "ipython",
    "version": 3
   },
   "file_extension": ".py",
   "mimetype": "text/x-python",
   "name": "python",
   "nbconvert_exporter": "python",
   "pygments_lexer": "ipython3",
   "version": "3.7.2"
  }
 },
 "nbformat": 4,
 "nbformat_minor": 4
}
